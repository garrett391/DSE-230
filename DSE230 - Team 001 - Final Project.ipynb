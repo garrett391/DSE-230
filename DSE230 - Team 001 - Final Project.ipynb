{
 "cells": [
  {
   "cell_type": "markdown",
   "id": "42f3ba33-b8ba-4efe-b1f3-88c3fb251d6b",
   "metadata": {},
   "source": [
    "![image info](./images/Human-With-Sensors.png)"
   ]
  },
  {
   "cell_type": "markdown",
   "id": "5d719acd",
   "metadata": {},
   "source": [
    "## Problem definition and data description\n",
    "\n",
    "### Problem Definition\n",
    "Our company (Spotify) would like to dynamically target advertising to non-premium members based on their physical activity while using Spotify services. For example, while a listener is enjoying a podcast and folding their laundry, they would receive an ad for laundry detergent. \n",
    "\n",
    "In addition Spotify also wishes to cater to our premium members by enhancing music recommendation/auto-play options based on a members physical activity. For example, while a user is exercising play up-tempo music, and while a user is eating pasta play Italian classics.\n",
    "\n",
    "### Data Description\n",
    "\n",
    "Accelerometer (measures proper acceleration) and Gyroscope (measures orientation and angular velocity) data was collected from 51 volunteer subjects. Each subject was asked to perform 18 tasks for 3 minutes each. The 18 tasks were a mix of physical activities that could be distinctly identified, such as walking, eating, laundry, etc. We (Spotify) tried to collect data for activities that our members might be doing while using our services. The tasks are listed below.\n",
    "\n",
    "![image info](./images/Activity-Code-Table.png)\n",
    "\n",
    "Each subject had a smartwatch placed on his/her dominant hand and a smartphone in their pocket. The smartphone and smartwatch both had an accelerometer and gyrocope, yielding four total sensors (Phone - Gyroscope, Phone - Accelerometer, Watch - Gyroscope, Watch - Accelerometer).\n",
    "\n",
    "![image info](./images/Human-With-Sensors.png)\n",
    "\n",
    "To accomodate the four sensors, the data is split up into 4 subdirectories, one for each device and sensor. \n",
    "\n",
    "![image info](./images/Sensor-Subdirectories.png)\n",
    "\n",
    "Each directory contains the sensor results for the 51 subject's performance of the 18 activities. The results for each subject are stored in a comma delimited text file. Since there are 51 subjects and 4 different sensors, there are a total of 204 text files. Each text file has the same six attributes: Subject-id, Activity Code, Timestamp, x, y, z\n",
    "\n",
    "![image info](./images/Raw-Data-Description.png)"
   ]
  },
  {
   "cell_type": "markdown",
   "id": "e79df222",
   "metadata": {
    "tags": []
   },
   "source": [
    "## Data preparation process\n",
    "\n",
    "Our data is pretty clean, we don't need to do a lot of preproccessing/data engineering. We really just need to do the ML side, which, lends itself more to the majority of work we need to do with this project. We stuck with dask so we could use the natural integration it has with python, as well as its similiar syntax to Pandas.\n",
    "\n",
    "To clean, prepare and train our data, we decided to go with dask. Our reasoning was that, while our data was large (approx. 15 million records, ~1 gb), it was not large enough to warrant the use of Spark. The image below summarizes our thoughts on the choice between dask vs spark.\n",
    "\n",
    "![image info](./images/Pandas-Dask-Spark-Compare.png)"
   ]
  },
  {
   "cell_type": "markdown",
   "id": "e7ffdaf8",
   "metadata": {},
   "source": [
    "### Importing the data\n",
    "\n",
    "To shortstep the inconvenience of downloading and importing over 200 text files, we decided to host all the data on github for easy access (https://github.com/gojandrooo/DSE-230/tree/main/data). To quickly pull the github data into a pandas dataframe, we defined a function collate_df that will pull in all data matching the parameters given."
   ]
  },
  {
   "cell_type": "markdown",
   "id": "66cebfd8-9efe-40e3-ac5a-f5a8fe804009",
   "metadata": {},
   "source": [
    "Begin by importing all the necessary libraries\n",
    "\n",
    "Running within *Docker* container you will need to install libraries not already included in the image.\n",
    "- comment/uncomment the `%pip install` cell (below)\n",
    "- run the cell, wait for the packages to install, and then restart notebook. \n",
    "- once installs are complete, comment out the cell and run all"
   ]
  },
  {
   "cell_type": "code",
   "execution_count": 4,
   "id": "0147ccf3",
   "metadata": {},
   "outputs": [
    {
     "name": "stdout",
     "output_type": "stream",
     "text": [
      "Requirement already satisfied: plotly in /usr/local/lib/python3.8/dist-packages (5.8.0)\n",
      "Requirement already satisfied: tenacity>=6.2.0 in /usr/local/lib/python3.8/dist-packages (from plotly) (8.0.1)\n",
      "Note: you may need to restart the kernel to use updated packages.\n",
      "Collecting dask_distance\n",
      "  Downloading dask-distance-0.2.0.tar.gz (35 kB)\n",
      "Requirement already satisfied: dask in /usr/local/lib/python3.8/dist-packages (from dask_distance) (2022.4.1)\n",
      "Requirement already satisfied: numpy in /usr/local/lib/python3.8/dist-packages (from dask_distance) (1.21.0)\n",
      "Requirement already satisfied: toolz>=0.8.2 in /usr/local/lib/python3.8/dist-packages (from dask->dask_distance) (0.11.2)\n",
      "Requirement already satisfied: cloudpickle>=1.1.1 in /usr/local/lib/python3.8/dist-packages (from dask->dask_distance) (2.0.0)\n",
      "Requirement already satisfied: packaging>=20.0 in /usr/local/lib/python3.8/dist-packages (from dask->dask_distance) (21.3)\n",
      "Requirement already satisfied: partd>=0.3.10 in /usr/local/lib/python3.8/dist-packages (from dask->dask_distance) (1.2.0)\n",
      "Requirement already satisfied: fsspec>=0.6.0 in /usr/local/lib/python3.8/dist-packages (from dask->dask_distance) (2022.3.0)\n",
      "Requirement already satisfied: pyyaml>=5.3.1 in /usr/local/lib/python3.8/dist-packages (from dask->dask_distance) (5.4.1)\n",
      "Requirement already satisfied: pyparsing!=3.0.5,>=2.0.2 in /usr/local/lib/python3.8/dist-packages (from packaging>=20.0->dask->dask_distance) (3.0.8)\n",
      "Requirement already satisfied: locket in /usr/local/lib/python3.8/dist-packages (from partd>=0.3.10->dask->dask_distance) (1.0.0)\n",
      "Building wheels for collected packages: dask-distance\n",
      "  Building wheel for dask-distance (setup.py) ... \u001b[?25ldone\n",
      "\u001b[?25h  Created wheel for dask-distance: filename=dask_distance-0.2.0-py2.py3-none-any.whl size=9069 sha256=2b9bd68bb8c5a690971cfa4d19608afb7eacd8c392eae1a9e19a073d3040b045\n",
      "  Stored in directory: /home/.cache/pip/wheels/7f/1a/8f/7f5269f3670f46d69b900921a8f06f7592daf09572ea27865b\n",
      "Successfully built dask-distance\n",
      "Installing collected packages: dask-distance\n",
      "Successfully installed dask-distance-0.2.0\n",
      "Note: you may need to restart the kernel to use updated packages.\n"
     ]
    }
   ],
   "source": [
    "%pip install plotly\n",
    "%pip install dask_distance"
   ]
  },
  {
   "cell_type": "code",
   "execution_count": 5,
   "id": "18a17cdd",
   "metadata": {},
   "outputs": [],
   "source": [
    "#set a random state seed for replication\n",
    "seed=23"
   ]
  },
  {
   "cell_type": "code",
   "execution_count": 6,
   "id": "b55ef5e0-4738-475f-b0a9-b986a2bed255",
   "metadata": {},
   "outputs": [],
   "source": [
    "# libraries\n",
    "import os\n",
    "import pandas as pd\n",
    "import numpy as np\n",
    "import matplotlib.pyplot as plt\n",
    "import seaborn as sns\n",
    "import plotly.express as px\n",
    "import itertools as it\n",
    "\n",
    "import dask\n",
    "import dask.dataframe as dd\n",
    "import dask.array as da\n",
    "from dask.distributed import Client\n",
    "import joblib\n",
    "\n",
    "# model processing libraries\n",
    "import dask_distance\n",
    "from dask_ml.model_selection import train_test_split\n",
    "from dask_ml.preprocessing import StandardScaler\n",
    "#from sklearn.model_selection import GridSearchCV\n",
    "import dask_ml.model_selection as dcv\n",
    "\n",
    "# models\n",
    "# will need to update these with the models we use\n",
    "from sklearn.svm import SVC\n",
    "from sklearn.tree import DecisionTreeClassifier\n",
    "from sklearn.cluster import KMeans\n",
    "\n",
    "import ssl\n",
    "# needed to request files when run from within docker container\n",
    "ssl._create_default_https_context = ssl._create_unverified_context"
   ]
  },
  {
   "cell_type": "code",
   "execution_count": 7,
   "id": "31b49c17",
   "metadata": {},
   "outputs": [
    {
     "data": {
      "text/plain": [
       "{'ssl_context': None, 'require_encryption': False, 'extra_conn_args': {}}"
      ]
     },
     "execution_count": 7,
     "metadata": {},
     "output_type": "execute_result"
    }
   ],
   "source": [
    "# Start and connect to a local dask.distributed client\n",
    "client = Client()\n",
    "client.connection_args"
   ]
  },
  {
   "cell_type": "markdown",
   "id": "1df2fa91-a025-45e3-8a66-e26a11ab5ead",
   "metadata": {},
   "source": [
    "Get data from github and prep files for analysis"
   ]
  },
  {
   "cell_type": "code",
   "execution_count": 8,
   "id": "11a388e6-a2ad-444b-86c0-e44fcbaa346e",
   "metadata": {},
   "outputs": [],
   "source": [
    "# key for understanding which activity is being measured in a record\n",
    "activity_key_url = r\"https://raw.githubusercontent.com/gojandrooo/DSE-230/main/data/activity_key.txt\"\n",
    "\n",
    "#read the activity table from gtihub\n",
    "activity_key = pd.read_csv(activity_key_url, header=None)\n",
    "\n",
    "#split the data into a proper table\n",
    "activity_key = activity_key[0].str.replace(\" \", \"\").str.split(\"=\", expand=True)\n",
    "activity_key.columns = ['activity', 'code']\n",
    "#activity_key"
   ]
  },
  {
   "cell_type": "code",
   "execution_count": 9,
   "id": "de3c4388-9f67-4b01-acbc-4e218c5c88fc",
   "metadata": {},
   "outputs": [],
   "source": [
    "# NOTE\n",
    "# this still only grabs three spreadsheets, update for production\n",
    "\n",
    "def collate_dask_df(device, data_type):\n",
    "\n",
    "    '''\n",
    "    returns a single dask dataframe from multiple text files hosted on github\n",
    "    \n",
    "    device: [\"phone\", \"watch\"]\n",
    "    \n",
    "    data_type: [\"accel\", \"gyro\"]\n",
    "    ----------------------------\n",
    "    '''\n",
    "    \n",
    "    base_url = r\"https://raw.githubusercontent.com/gojandrooo/DSE-230/main/data\"\n",
    "\n",
    "    # TOGGLE FOR DEVICE\n",
    "    device = device\n",
    "\n",
    "    # TOGGLE FOR MEASUREMENT TYPE\n",
    "    data_type = data_type\n",
    "    \n",
    "    # create list of all file names\n",
    "    file_names = [f\"/data_{user_id}_{data_type}_{device}.txt\" for user_id in range(1600, 1651)]\n",
    "\n",
    "    # create urls of all files\n",
    "    loop_urls = [base_url + \"/\" + device + \"/\" + data_type + file_name for file_name in file_names]\n",
    "    \n",
    "    # concatenate data into one object\n",
    "    '''still uses `pandas.read_csv` instead of `dask.read_csv` due to certificate issue'''\n",
    "    dask_df = dd.multi.concat([pd.read_csv(url, header=None) for url in loop_urls[:3]]) # for dev this is only the first three files\n",
    "    #dask_df = dd.multi.concat([pd.read_csv(url, header=None) for url in loop_urls]) # PRODUCTION, all of the files\n",
    "    \n",
    "    dask_df.columns = ['subject_id', 'code', 'timestamp', 'x', 'y', 'z']\n",
    "    dask_df['z'] = dask_df['z'].str.replace(\";\", \"\").astype('float64')\n",
    "    dask_df = dask_df.reset_index(drop = True)\n",
    "    \n",
    "    return dask_df # dask df output"
   ]
  },
  {
   "cell_type": "code",
   "execution_count": 10,
   "id": "c884014b-65d7-4558-8c48-ac4d34c9482e",
   "metadata": {},
   "outputs": [
    {
     "data": {
      "text/plain": [
       "\u001b[0;31mSignature:\u001b[0m \u001b[0mcollate_dask_df\u001b[0m\u001b[0;34m(\u001b[0m\u001b[0mdevice\u001b[0m\u001b[0;34m,\u001b[0m \u001b[0mdata_type\u001b[0m\u001b[0;34m)\u001b[0m\u001b[0;34m\u001b[0m\u001b[0;34m\u001b[0m\u001b[0m\n",
       "\u001b[0;31mDocstring:\u001b[0m\n",
       "returns a single dask dataframe from multiple text files hosted on github\n",
       "\n",
       "device: [\"phone\", \"watch\"]\n",
       "\n",
       "data_type: [\"accel\", \"gyro\"]\n",
       "----------------------------\n",
       "\u001b[0;31mFile:\u001b[0m      /tmp/ipykernel_424/1638094770.py\n",
       "\u001b[0;31mType:\u001b[0m      function\n"
      ]
     },
     "metadata": {},
     "output_type": "display_data"
    }
   ],
   "source": [
    "collate_dask_df?"
   ]
  },
  {
   "cell_type": "code",
   "execution_count": 11,
   "id": "3c6bc8c6-af59-4c0b-9e2c-2c42bfc6fe9e",
   "metadata": {},
   "outputs": [
    {
     "name": "stdout",
     "output_type": "stream",
     "text": [
      "CPU times: user 473 ms, sys: 195 ms, total: 668 ms\n",
      "Wall time: 5.65 s\n"
     ]
    }
   ],
   "source": [
    "%%time\n",
    "phone_accel_dd = collate_dask_df(\"phone\", \"accel\")"
   ]
  },
  {
   "cell_type": "code",
   "execution_count": 12,
   "id": "95c6e6fc-3eed-42b6-b378-726418d988ba",
   "metadata": {},
   "outputs": [
    {
     "data": {
      "text/html": [
       "<div>\n",
       "<style scoped>\n",
       "    .dataframe tbody tr th:only-of-type {\n",
       "        vertical-align: middle;\n",
       "    }\n",
       "\n",
       "    .dataframe tbody tr th {\n",
       "        vertical-align: top;\n",
       "    }\n",
       "\n",
       "    .dataframe thead th {\n",
       "        text-align: right;\n",
       "    }\n",
       "</style>\n",
       "<table border=\"1\" class=\"dataframe\">\n",
       "  <thead>\n",
       "    <tr style=\"text-align: right;\">\n",
       "      <th></th>\n",
       "      <th>subject_id</th>\n",
       "      <th>code</th>\n",
       "      <th>timestamp</th>\n",
       "      <th>x</th>\n",
       "      <th>y</th>\n",
       "      <th>z</th>\n",
       "    </tr>\n",
       "  </thead>\n",
       "  <tbody>\n",
       "    <tr>\n",
       "      <th>0</th>\n",
       "      <td>1600</td>\n",
       "      <td>A</td>\n",
       "      <td>252207666810782</td>\n",
       "      <td>-0.364761</td>\n",
       "      <td>8.793503</td>\n",
       "      <td>1.055084</td>\n",
       "    </tr>\n",
       "    <tr>\n",
       "      <th>1</th>\n",
       "      <td>1600</td>\n",
       "      <td>A</td>\n",
       "      <td>252207717164786</td>\n",
       "      <td>-0.879730</td>\n",
       "      <td>9.768784</td>\n",
       "      <td>1.016998</td>\n",
       "    </tr>\n",
       "    <tr>\n",
       "      <th>2</th>\n",
       "      <td>1600</td>\n",
       "      <td>A</td>\n",
       "      <td>252207767518790</td>\n",
       "      <td>2.001495</td>\n",
       "      <td>11.109070</td>\n",
       "      <td>2.619156</td>\n",
       "    </tr>\n",
       "  </tbody>\n",
       "</table>\n",
       "</div>"
      ],
      "text/plain": [
       "   subject_id code        timestamp         x          y         z\n",
       "0        1600    A  252207666810782 -0.364761   8.793503  1.055084\n",
       "1        1600    A  252207717164786 -0.879730   9.768784  1.016998\n",
       "2        1600    A  252207767518790  2.001495  11.109070  2.619156"
      ]
     },
     "execution_count": 12,
     "metadata": {},
     "output_type": "execute_result"
    }
   ],
   "source": [
    "# create the dask dataframes for each sensor\n",
    "phone_accel = collate_dask_df(\"phone\", \"accel\")\n",
    "phone_gyro = collate_dask_df(\"phone\", \"gyro\")\n",
    "watch_accel = collate_dask_df(\"watch\", \"accel\")\n",
    "watch_gyro = collate_dask_df(\"watch\", \"gyro\")\n",
    "phone_accel.head(3)"
   ]
  },
  {
   "cell_type": "markdown",
   "id": "17d33a17-5842-4d84-afaf-d9281ec09b68",
   "metadata": {},
   "source": [
    "### EDA\n",
    "Below we compare the accelerometer sensors results and the gyroscope results independently. This is because the sensors have different units. The accelerometer sensor has units in m/s^2 while the gyroscope has units in radians/s."
   ]
  },
  {
   "cell_type": "code",
   "execution_count": 13,
   "id": "844eec29",
   "metadata": {},
   "outputs": [
    {
     "data": {
      "text/html": [
       "<div>\n",
       "<style scoped>\n",
       "    .dataframe tbody tr th:only-of-type {\n",
       "        vertical-align: middle;\n",
       "    }\n",
       "\n",
       "    .dataframe tbody tr th {\n",
       "        vertical-align: top;\n",
       "    }\n",
       "\n",
       "    .dataframe thead th {\n",
       "        text-align: right;\n",
       "    }\n",
       "</style>\n",
       "<table border=\"1\" class=\"dataframe\">\n",
       "  <thead>\n",
       "    <tr style=\"text-align: right;\">\n",
       "      <th></th>\n",
       "      <th>x_phone_accel</th>\n",
       "      <th>x_watch_accel</th>\n",
       "      <th>y_phone_accel</th>\n",
       "      <th>y_watch_accel</th>\n",
       "      <th>z_phone_accel</th>\n",
       "      <th>z_watch_accel</th>\n",
       "    </tr>\n",
       "  </thead>\n",
       "  <tbody>\n",
       "    <tr>\n",
       "      <th>count</th>\n",
       "      <td>230658.000000</td>\n",
       "      <td>195287.000000</td>\n",
       "      <td>230658.000000</td>\n",
       "      <td>195287.000000</td>\n",
       "      <td>230658.000000</td>\n",
       "      <td>195287.000000</td>\n",
       "    </tr>\n",
       "    <tr>\n",
       "      <th>mean</th>\n",
       "      <td>-0.703180</td>\n",
       "      <td>0.850824</td>\n",
       "      <td>2.211592</td>\n",
       "      <td>-4.430207</td>\n",
       "      <td>4.625158</td>\n",
       "      <td>3.001613</td>\n",
       "    </tr>\n",
       "    <tr>\n",
       "      <th>std</th>\n",
       "      <td>3.209020</td>\n",
       "      <td>7.038872</td>\n",
       "      <td>6.754970</td>\n",
       "      <td>4.716424</td>\n",
       "      <td>4.424380</td>\n",
       "      <td>4.942298</td>\n",
       "    </tr>\n",
       "    <tr>\n",
       "      <th>min</th>\n",
       "      <td>-19.613300</td>\n",
       "      <td>-19.717150</td>\n",
       "      <td>-19.613300</td>\n",
       "      <td>-19.779099</td>\n",
       "      <td>-19.753006</td>\n",
       "      <td>-19.820848</td>\n",
       "    </tr>\n",
       "    <tr>\n",
       "      <th>25%</th>\n",
       "      <td>-2.299631</td>\n",
       "      <td>-1.479168</td>\n",
       "      <td>-1.756149</td>\n",
       "      <td>-6.903344</td>\n",
       "      <td>1.296925</td>\n",
       "      <td>0.387524</td>\n",
       "    </tr>\n",
       "    <tr>\n",
       "      <th>50%</th>\n",
       "      <td>-1.453720</td>\n",
       "      <td>0.653467</td>\n",
       "      <td>1.520917</td>\n",
       "      <td>-2.625242</td>\n",
       "      <td>5.847239</td>\n",
       "      <td>3.199177</td>\n",
       "    </tr>\n",
       "    <tr>\n",
       "      <th>75%</th>\n",
       "      <td>2.898041</td>\n",
       "      <td>7.620744</td>\n",
       "      <td>9.495972</td>\n",
       "      <td>-0.746093</td>\n",
       "      <td>8.954769</td>\n",
       "      <td>7.212383</td>\n",
       "    </tr>\n",
       "    <tr>\n",
       "      <th>max</th>\n",
       "      <td>19.612701</td>\n",
       "      <td>19.761143</td>\n",
       "      <td>19.613052</td>\n",
       "      <td>19.990686</td>\n",
       "      <td>19.612701</td>\n",
       "      <td>19.693506</td>\n",
       "    </tr>\n",
       "  </tbody>\n",
       "</table>\n",
       "</div>"
      ],
      "text/plain": [
       "       x_phone_accel  x_watch_accel  y_phone_accel  y_watch_accel  \\\n",
       "count  230658.000000  195287.000000  230658.000000  195287.000000   \n",
       "mean       -0.703180       0.850824       2.211592      -4.430207   \n",
       "std         3.209020       7.038872       6.754970       4.716424   \n",
       "min       -19.613300     -19.717150     -19.613300     -19.779099   \n",
       "25%        -2.299631      -1.479168      -1.756149      -6.903344   \n",
       "50%        -1.453720       0.653467       1.520917      -2.625242   \n",
       "75%         2.898041       7.620744       9.495972      -0.746093   \n",
       "max        19.612701      19.761143      19.613052      19.990686   \n",
       "\n",
       "       z_phone_accel  z_watch_accel  \n",
       "count  230658.000000  195287.000000  \n",
       "mean        4.625158       3.001613  \n",
       "std         4.424380       4.942298  \n",
       "min       -19.753006     -19.820848  \n",
       "25%         1.296925       0.387524  \n",
       "50%         5.847239       3.199177  \n",
       "75%         8.954769       7.212383  \n",
       "max        19.612701      19.693506  "
      ]
     },
     "execution_count": 13,
     "metadata": {},
     "output_type": "execute_result"
    }
   ],
   "source": [
    "feat_cols = ['x', 'y', 'z']\n",
    "phone_accel_stats = phone_accel[feat_cols].describe().compute()\n",
    "watch_accel_stats = watch_accel[feat_cols].describe().compute()\n",
    "accel_stats = phone_accel_stats.merge(watch_accel_stats, left_index=True, right_index=True, suffixes=('_phone_accel', '_watch_accel'))\n",
    "accel_stats.reindex(sorted(accel_stats.columns), axis=1)"
   ]
  },
  {
   "cell_type": "code",
   "execution_count": 14,
   "id": "c1eced70",
   "metadata": {},
   "outputs": [
    {
     "data": {
      "text/html": [
       "<div>\n",
       "<style scoped>\n",
       "    .dataframe tbody tr th:only-of-type {\n",
       "        vertical-align: middle;\n",
       "    }\n",
       "\n",
       "    .dataframe tbody tr th {\n",
       "        vertical-align: top;\n",
       "    }\n",
       "\n",
       "    .dataframe thead th {\n",
       "        text-align: right;\n",
       "    }\n",
       "</style>\n",
       "<table border=\"1\" class=\"dataframe\">\n",
       "  <thead>\n",
       "    <tr style=\"text-align: right;\">\n",
       "      <th></th>\n",
       "      <th>x_phone_gyro</th>\n",
       "      <th>x_watch_gyro</th>\n",
       "      <th>y_phone_gyro</th>\n",
       "      <th>y_watch_gyro</th>\n",
       "      <th>z_phone_gyro</th>\n",
       "      <th>z_watch_gyro</th>\n",
       "    </tr>\n",
       "  </thead>\n",
       "  <tbody>\n",
       "    <tr>\n",
       "      <th>count</th>\n",
       "      <td>209726.000000</td>\n",
       "      <td>195214.000000</td>\n",
       "      <td>209726.000000</td>\n",
       "      <td>195214.000000</td>\n",
       "      <td>209726.000000</td>\n",
       "      <td>195214.000000</td>\n",
       "    </tr>\n",
       "    <tr>\n",
       "      <th>mean</th>\n",
       "      <td>-0.002489</td>\n",
       "      <td>-0.026488</td>\n",
       "      <td>-0.003224</td>\n",
       "      <td>0.004399</td>\n",
       "      <td>-0.006940</td>\n",
       "      <td>-0.003257</td>\n",
       "    </tr>\n",
       "    <tr>\n",
       "      <th>std</th>\n",
       "      <td>0.781196</td>\n",
       "      <td>1.534488</td>\n",
       "      <td>0.776514</td>\n",
       "      <td>1.541887</td>\n",
       "      <td>0.482266</td>\n",
       "      <td>1.383244</td>\n",
       "    </tr>\n",
       "    <tr>\n",
       "      <th>min</th>\n",
       "      <td>-8.240326</td>\n",
       "      <td>-27.318910</td>\n",
       "      <td>-8.726380</td>\n",
       "      <td>-34.900160</td>\n",
       "      <td>-6.119944</td>\n",
       "      <td>-22.955528</td>\n",
       "    </tr>\n",
       "    <tr>\n",
       "      <th>25%</th>\n",
       "      <td>-0.020798</td>\n",
       "      <td>-0.282004</td>\n",
       "      <td>-0.021305</td>\n",
       "      <td>-0.187030</td>\n",
       "      <td>-0.018242</td>\n",
       "      <td>-0.193673</td>\n",
       "    </tr>\n",
       "    <tr>\n",
       "      <th>50%</th>\n",
       "      <td>0.000320</td>\n",
       "      <td>0.000907</td>\n",
       "      <td>0.000351</td>\n",
       "      <td>0.001644</td>\n",
       "      <td>-0.000214</td>\n",
       "      <td>0.002615</td>\n",
       "    </tr>\n",
       "    <tr>\n",
       "      <th>75%</th>\n",
       "      <td>0.026535</td>\n",
       "      <td>0.365357</td>\n",
       "      <td>0.035599</td>\n",
       "      <td>0.277855</td>\n",
       "      <td>0.029949</td>\n",
       "      <td>0.279046</td>\n",
       "    </tr>\n",
       "    <tr>\n",
       "      <th>max</th>\n",
       "      <td>8.706141</td>\n",
       "      <td>22.754925</td>\n",
       "      <td>8.722385</td>\n",
       "      <td>15.498922</td>\n",
       "      <td>8.703211</td>\n",
       "      <td>13.778158</td>\n",
       "    </tr>\n",
       "  </tbody>\n",
       "</table>\n",
       "</div>"
      ],
      "text/plain": [
       "        x_phone_gyro   x_watch_gyro   y_phone_gyro   y_watch_gyro  \\\n",
       "count  209726.000000  195214.000000  209726.000000  195214.000000   \n",
       "mean       -0.002489      -0.026488      -0.003224       0.004399   \n",
       "std         0.781196       1.534488       0.776514       1.541887   \n",
       "min        -8.240326     -27.318910      -8.726380     -34.900160   \n",
       "25%        -0.020798      -0.282004      -0.021305      -0.187030   \n",
       "50%         0.000320       0.000907       0.000351       0.001644   \n",
       "75%         0.026535       0.365357       0.035599       0.277855   \n",
       "max         8.706141      22.754925       8.722385      15.498922   \n",
       "\n",
       "        z_phone_gyro   z_watch_gyro  \n",
       "count  209726.000000  195214.000000  \n",
       "mean       -0.006940      -0.003257  \n",
       "std         0.482266       1.383244  \n",
       "min        -6.119944     -22.955528  \n",
       "25%        -0.018242      -0.193673  \n",
       "50%        -0.000214       0.002615  \n",
       "75%         0.029949       0.279046  \n",
       "max         8.703211      13.778158  "
      ]
     },
     "execution_count": 14,
     "metadata": {},
     "output_type": "execute_result"
    }
   ],
   "source": [
    "phone_gyro_stats = phone_gyro[feat_cols].describe().compute()\n",
    "watch_gyro_stats = watch_gyro[feat_cols].describe().compute()\n",
    "gyro_stats = phone_gyro_stats.merge(watch_gyro_stats, left_index=True, right_index=True, suffixes=('_phone_gyro', '_watch_gyro'))\n",
    "gyro_stats.reindex(sorted(gyro_stats.columns), axis=1)"
   ]
  },
  {
   "cell_type": "code",
   "execution_count": 15,
   "id": "92a6fcd7-a2d8-4ee0-8ed2-86abb7c830d2",
   "metadata": {},
   "outputs": [
    {
     "data": {
      "image/png": "[encoded data removed]",
      "text/plain": [
       "<Figure size 1008x864 with 6 Axes>"
      ]
     },
     "metadata": {
      "needs_background": "light"
     },
     "output_type": "display_data"
    }
   ],
   "source": [
    "# FUNCTIONIZED IMPLEMENTATION\n",
    "\n",
    "#calculate the histograms using the dask dataframes\n",
    "#since dask deals with large data we cant easily graph the dataframe\n",
    "#need to get all the histograms by hand and plot\n",
    "\n",
    "sensor_dfs = [phone_accel, watch_accel, phone_gyro,  watch_gyro]\n",
    "sensor_labels = ['phone_accel', 'watch_accel', 'phone_gyro',  'watch_gyro']\n",
    "\n",
    "def hist_subplot(dask_df, axis, n_bins, data_label, ax_row, ax_col):\n",
    "    '''\n",
    "    helper function to plot histograms\n",
    "    \n",
    "    dask_df: underlying dataframe\n",
    "    \n",
    "    axis: ['x', 'y', 'z']\n",
    "    \n",
    "    n_bins: int\n",
    "    \n",
    "    ax_row: subplot location\n",
    "    ax_col: subplot location\n",
    "    '''\n",
    "    \n",
    "    h, bins = da.histogram(dask_df[axis], bins=n_bins, range=[dask_df[axis].min().compute(), dask_df[axis].max().compute()])\n",
    "    bincenter = (bins[:-1] + bins[1:]) / 2\n",
    "    axes[ax_row,ax_col].bar(bincenter, list(h.compute()), align='center', width=2, alpha=0.65, label = data_label)\n",
    "    axes[ax_row,ax_col].legend(loc='best')\n",
    "\n",
    "    \n",
    "fig, axes = plt.subplots(nrows=3, ncols=2, sharex=True, sharey=True, figsize=(14,12))\n",
    "    \n",
    "# x-axis - firt row of subplot\n",
    "axis = 'x'\n",
    "i = 0\n",
    "hist_subplot(sensor_dfs[i], axis, 20, sensor_labels[i], 0, 0)\n",
    "i = 1\n",
    "hist_subplot(sensor_dfs[i], axis, 20, sensor_labels[i], 0, 0)\n",
    "i = 2\n",
    "hist_subplot(sensor_dfs[i], axis, 20, sensor_labels[i], 0, 1)\n",
    "i = 3\n",
    "hist_subplot(sensor_dfs[i], axis, 20, sensor_labels[i], 0, 1)\n",
    "\n",
    "# y-axis - second row of subplot\n",
    "axis = 'y'\n",
    "i = 0\n",
    "hist_subplot(sensor_dfs[i], axis, 20, sensor_labels[i], 1, 0)\n",
    "i = 1\n",
    "hist_subplot(sensor_dfs[i], axis, 20, sensor_labels[i], 1, 0)\n",
    "i = 2\n",
    "hist_subplot(sensor_dfs[i], axis, 20, sensor_labels[i], 1, 1)\n",
    "i = 3\n",
    "hist_subplot(sensor_dfs[i], axis, 20, sensor_labels[i], 1, 1)\n",
    "\n",
    "# z-axis - third row of subplot\n",
    "axis = 'z'\n",
    "i = 0\n",
    "hist_subplot(sensor_dfs[i], axis, 20, sensor_labels[i], 2, 0)\n",
    "i = 1\n",
    "hist_subplot(sensor_dfs[i], axis, 20, sensor_labels[i], 2, 0)\n",
    "i = 2\n",
    "hist_subplot(sensor_dfs[i], axis, 20, sensor_labels[i], 2, 1)\n",
    "i = 3\n",
    "hist_subplot(sensor_dfs[i], axis, 20, sensor_labels[i], 2, 1)\n",
    "\n",
    "axes[0,0].set_title('Phone/Watch Accelerometer')\n",
    "axes[0,1].set_title('Phone/Watch Gyroscope')\n",
    "\n",
    "plt.setp(axes[0, :], ylabel='x-axis')\n",
    "plt.setp(axes[1, :], ylabel='y-axis')\n",
    "plt.setp(axes[2, :], ylabel='z-axis')\n",
    "\n",
    "plt.show()"
   ]
  },
  {
   "cell_type": "code",
   "execution_count": 17,
   "id": "376d6626-9d99-44dc-bec8-66d6ee200851",
   "metadata": {},
   "outputs": [
    {
     "data": {
      "text/html": [
       "<iframe\n",
       "    scrolling=\"no\"\n",
       "    width=\"100%\"\n",
       "    height=\"545px\"\n",
       "    src=\"iframe_figures/figure_17.html\"\n",
       "    frameborder=\"0\"\n",
       "    allowfullscreen\n",
       "></iframe>\n"
      ]
     },
     "metadata": {},
     "output_type": "display_data"
    }
   ],
   "source": [
    "# VISUALIZE DATA\n",
    "# just a sample\n",
    "\n",
    "# depending on your setup may need different renderer to display\n",
    "# iframe should render on local implementation and docker image implementation\n",
    "\n",
    "renderer = [\n",
    "    'notebook', # local\n",
    "    'notebook_connected', # local\n",
    "    'kaggle', # local\n",
    "    'azure', # local\n",
    "    'browser', # local (opens plot in new browser tab)\n",
    "    'iframe', # docker, local (saves plot in `iframe_figures` folder)\n",
    "    'iframe_connected', # docker, local (saves plot in `iframe_figures` folder)\n",
    "    'colab' # docker\n",
    "]\n",
    "\n",
    "# take a sample of the data\n",
    "df = phone_accel.sample(frac=0.2, random_state=seed).sort_values(by='code').compute()\n",
    "fig = px.scatter_3d(df, \n",
    "                    x='x', \n",
    "                    y='y', \n",
    "                    z='z',\n",
    "                    color='code')\n",
    "fig.show(renderer=renderer[-2]) # if plot does not render, try a different index, the last three are preferred"
   ]
  },
  {
   "cell_type": "markdown",
   "id": "6028c977-47cb-4f6a-a7f0-72acd4e0a570",
   "metadata": {},
   "source": [
    "### Preparing the data for merging/grouping\n",
    "Adding custom index so merge is more efficient"
   ]
  },
  {
   "cell_type": "code",
   "execution_count": 18,
   "id": "d2fa704a-40f2-4556-9a9c-de599dff37bb",
   "metadata": {},
   "outputs": [],
   "source": [
    "#set custom index for joining\n",
    "#joining on an index in dask optimizes the operation\n",
    "#might be even faster if we create this column during the data ingestion phase of collate_dask_df\n",
    "phone_accel['index'] = phone_accel['subject_id'].astype('str') + phone_accel['code'] + phone_accel['timestamp'].astype('str')\n",
    "phone_gyro['index'] = phone_gyro['subject_id'].astype('str') + phone_gyro['code'] + phone_gyro['timestamp'].astype('str')\n",
    "watch_accel['index'] = watch_accel['subject_id'].astype('str') + watch_accel['code'] + watch_accel['timestamp'].astype('str')\n",
    "watch_gyro['index'] = watch_gyro['subject_id'].astype('str') + watch_gyro['code'] + watch_gyro['timestamp'].astype('str')"
   ]
  },
  {
   "cell_type": "code",
   "execution_count": 19,
   "id": "21c8f863-e82f-4481-bae1-3aa28d5aa114",
   "metadata": {},
   "outputs": [],
   "source": [
    "phone_accel = phone_accel.set_index('index')\n",
    "phone_gyro = phone_gyro.set_index('index')\n",
    "watch_accel = watch_accel.set_index('index')\n",
    "watch_gyro = watch_gyro.set_index('index')"
   ]
  },
  {
   "cell_type": "code",
   "execution_count": 20,
   "id": "8af2a3e5-5bc1-41e1-85ab-a2778a74c1cb",
   "metadata": {},
   "outputs": [
    {
     "data": {
      "text/plain": [
       "((230658, 6), (209726, 6))"
      ]
     },
     "execution_count": 20,
     "metadata": {},
     "output_type": "execute_result"
    }
   ],
   "source": [
    "# phone shapes\n",
    "dask.compute(phone_accel.shape, phone_gyro.shape)"
   ]
  },
  {
   "cell_type": "code",
   "execution_count": 21,
   "id": "73961add-c737-4920-bda7-0a11d3a01582",
   "metadata": {},
   "outputs": [
    {
     "data": {
      "text/plain": [
       "((195287, 6), (195214, 6))"
      ]
     },
     "execution_count": 21,
     "metadata": {},
     "output_type": "execute_result"
    }
   ],
   "source": [
    "# watch shapes\n",
    "dask.compute(watch_accel.shape, watch_gyro.shape)"
   ]
  },
  {
   "cell_type": "code",
   "execution_count": null,
   "id": "4411dbd9-cbb4-4bad-a8b6-741289f9ea51",
   "metadata": {},
   "outputs": [],
   "source": [
    "feat_cols = ['x', 'y', 'z']\n",
    "def merge_dfs(df1, df2, suffixes):\n",
    "    df1partitions = df1.npartitions\n",
    "    df2partitions = df2.npartitions\n",
    "    partitions = max(df1partitions, df2partitions)\n",
    "    merged =  dd.merge(df1, df2[feat_cols], how='inner', left_index = True, right_index = True, \n",
    "                    suffixes=suffixes).reset_index(drop = True)\n",
    "    return dd.from_pandas(merged.compute(), npartitions = partitions)"
   ]
  },
  {
   "cell_type": "code",
   "execution_count": null,
   "id": "2255eba3-b992-439a-abe9-94ef389ba5b2",
   "metadata": {},
   "outputs": [],
   "source": [
    "# attempt to merge phone data\n",
    "''' trying to join on custom 'index' column defined above. per dask best practices, this is much better than joining on multiple columns. In fact, joining on\n",
    "multiple columns is the slowest method\n",
    "\n",
    "phone_df = dd.merge(phone_accel, phone_gyro, how='inner', left_on=['subject_id', 'code', 'timestamp'], right_on=['subject_id', 'code', 'timestamp'], \n",
    "                    suffixes=('_phone_accel', '_phone_gyro')).reset_index(drop = True)\n",
    "                    \n",
    "phone_df = dd.merge(phone_accel, phone_gyro[feat_cols], how='inner', left_index = True, right_index = True, \n",
    "                    suffixes=('_phone_accel', '_phone_gyro'))\n",
    "                    \n",
    "phone_df = dask.delayed(merge_dfs)(phone_accel, phone_gyro[feat_cols], ('_phone_accel', '_phone_gyro'))\n",
    "                    '''\n",
    "phone_df = merge_dfs(phone_accel, phone_gyro[feat_cols], ('_phone_accel', '_phone_gyro'))\n",
    "phone_df.head()"
   ]
  },
  {
   "cell_type": "code",
   "execution_count": null,
   "id": "bf3c938e-a10e-4af4-9681-6384efbe5fec",
   "metadata": {},
   "outputs": [],
   "source": [
    "# attempt to merge watch data\n",
    "'''\n",
    "watch_df = dd.merge(watch_accel, watch_gyro, how='inner', left_on=['subject_id', 'code', 'timestamp'], right_on=['subject_id', 'code', 'timestamp'], \n",
    "                    suffixes=('watch_accel', 'watch_gyro')).reset_index(drop = True)\n",
    "                    \n",
    "watch_df = dask.delayed(merge_dfs)(watch_accel, watch_gyro[feat_cols], ('_watch_accel', '_watch_gyro'))\n",
    "                    '''\n",
    "\n",
    "watch_df = merge_dfs(watch_accel, watch_gyro[feat_cols], ('_watch_accel', '_watch_gyro'))\n",
    "watch_df.head()"
   ]
  },
  {
   "cell_type": "code",
   "execution_count": null,
   "id": "f3b98aa0-f68b-4d3d-a0c6-ae3332d76adf",
   "metadata": {},
   "outputs": [],
   "source": [
    "dask.compute(phone_df.shape[0], watch_df.shape[0])"
   ]
  },
  {
   "cell_type": "code",
   "execution_count": null,
   "id": "4c5adbe1-2411-43a4-a270-b4143f2a61f8",
   "metadata": {
    "tags": []
   },
   "outputs": [],
   "source": [
    "# result of inner join\n",
    "records_remaining = sum(dask.compute(phone_df.shape[0], watch_df.shape[0]))\n",
    "\"{:,.0f}\".format(records_remaining)"
   ]
  },
  {
   "cell_type": "markdown",
   "id": "b9fe23dc-cab4-48b5-8829-06c1ea2aca99",
   "metadata": {},
   "source": [
    "### Scaling the data"
   ]
  },
  {
   "cell_type": "code",
   "execution_count": 30,
   "id": "0c8e378b-9b29-45a4-9c6a-04e0c2395436",
   "metadata": {},
   "outputs": [],
   "source": [
    "#maybe we won't even do this. if we do, we need to define train_test_split up here\n",
    "'''\n",
    "code for scaling is at the ML stage if we want to move it\n",
    "'''"
   ]
  },
  {
   "cell_type": "markdown",
   "id": "325f1e2a-b6f4-49a7-b6f5-45b8a65fa4ed",
   "metadata": {},
   "source": [
    "### Aggregating the data\n",
    "Grouping averages into n second intervals"
   ]
  },
  {
   "cell_type": "code",
   "execution_count": 75,
   "id": "e5905bfd-3ca0-4af8-aa53-4f296d9d39a8",
   "metadata": {},
   "outputs": [
    {
     "data": {
      "text/plain": [
       "'\\nneed to build in logic to compute below figures for the same rows that compute the average\\n'"
      ]
     },
     "execution_count": 75,
     "metadata": {},
     "output_type": "execute_result"
    },
    {
     "name": "stderr",
     "output_type": "stream",
     "text": [
      "2022-05-22 23:33:24,978 - distributed.nanny - WARNING - Restarting worker\n",
      "2022-05-22 23:33:24,982 - distributed.nanny - WARNING - Restarting worker\n",
      "2022-05-22 23:33:24,999 - distributed.nanny - WARNING - Restarting worker\n",
      "2022-05-22 23:33:25,017 - distributed.nanny - WARNING - Restarting worker\n",
      "2022-05-22 23:33:25,069 - distributed.nanny - WARNING - Restarting worker\n",
      "2022-05-22 23:33:25,073 - distributed.nanny - WARNING - Restarting worker\n",
      "2022-05-22 23:33:25,172 - distributed.nanny - WARNING - Restarting worker\n",
      "2022-05-22 23:33:25,174 - distributed.nanny - WARNING - Restarting worker\n",
      "2022-05-22 23:33:25,189 - distributed.nanny - WARNING - Restarting worker\n",
      "2022-05-22 23:33:25,205 - distributed.nanny - WARNING - Restarting worker\n",
      "2022-05-22 23:33:25,475 - distributed.nanny - WARNING - Restarting worker\n",
      "2022-05-22 23:33:25,477 - distributed.nanny - WARNING - Restarting worker\n",
      "2022-05-22 23:33:25,492 - distributed.nanny - WARNING - Restarting worker\n",
      "2022-05-22 23:33:25,509 - distributed.nanny - WARNING - Restarting worker\n",
      "2022-05-22 23:33:26,480 - distributed.nanny - WARNING - Restarting worker\n",
      "2022-05-22 23:33:26,497 - distributed.nanny - WARNING - Restarting worker\n",
      "2022-05-22 23:33:26,521 - distributed.nanny - WARNING - Restarting worker\n",
      "2022-05-22 23:33:26,524 - distributed.nanny - WARNING - Restarting worker\n"
     ]
    }
   ],
   "source": [
    "'''\n",
    "need to build in logic to compute below figures for the same rows that compute the average\n",
    "'''"
   ]
  },
  {
   "attachments": {
    "d30fb769-a50f-4ce3-abf9-90a8af9640a1.png": {
     "image/png": "[encoded data removed]"
    }
   },
   "cell_type": "markdown",
   "id": "aa846d9b-59bb-4770-ab0d-03e899b98d25",
   "metadata": {},
   "source": [
    "within each n_second agregation, map relationship between each of the x/y/x paired arrays\n",
    "- COSINE\n",
    "    - xy\n",
    "    - xz\n",
    "    - yz\n",
    "- CORRELATION\n",
    "    - xy\n",
    "    - xz\n",
    "    - yz\n",
    "\n",
    "![image.png](attachment:d30fb769-a50f-4ce3-abf9-90a8af9640a1.png)"
   ]
  },
  {
   "cell_type": "code",
   "execution_count": 57,
   "id": "9138a44b-639e-4fdf-889f-23b07583847e",
   "metadata": {},
   "outputs": [
    {
     "data": {
      "text/plain": [
       "['x', 'y', 'z']"
      ]
     },
     "execution_count": 57,
     "metadata": {},
     "output_type": "execute_result"
    }
   ],
   "source": [
    "feat_cols"
   ]
  },
  {
   "cell_type": "code",
   "execution_count": 62,
   "id": "d6889871-d62e-4b64-8e19-5b9bd124352b",
   "metadata": {},
   "outputs": [
    {
     "data": {
      "text/plain": [
       "[('x', 'y'), ('x', 'z'), ('y', 'z')]"
      ]
     },
     "execution_count": 62,
     "metadata": {},
     "output_type": "execute_result"
    }
   ],
   "source": [
    "col_combos = list(it.combinations(feat_cols, 2))\n",
    "col_combos"
   ]
  },
  {
   "cell_type": "code",
   "execution_count": 68,
   "id": "bc82459c-7063-4622-9040-68d23dcc90e0",
   "metadata": {},
   "outputs": [],
   "source": [
    "# compute pairwise relationships in one call\n",
    "\n",
    "def cosine_combos(dask_df, cols):\n",
    "    cos, corr = dask.compute(\n",
    "        dask_distance.cosine(dask_df[cols[0]], dask_df[cols[1]]),\n",
    "        dask_distance.correlation(dask_df[cols[0]], dask_df[cols[1]])\n",
    "        )\n",
    "    return cos, corr"
   ]
  },
  {
   "cell_type": "code",
   "execution_count": 73,
   "id": "3581eda0-67b3-4d48-9125-50f1ad3d324d",
   "metadata": {},
   "outputs": [
    {
     "name": "stdout",
     "output_type": "stream",
     "text": [
      "('x', 'y') : (1.175521718532163, 1.2511876713354029)\n",
      "('x', 'z') : (0.18661200529030963, 0.17308282215922044)\n",
      "('y', 'z') : (1.080328029437805, 1.7204532996879098)\n"
     ]
    }
   ],
   "source": [
    "'''\n",
    "not actual implementation, just wireframe guide\n",
    "'''\n",
    "for combo in col_combos:\n",
    "    print(combo, \":\", cosine_combos(phone_accel.head(), combo))"
   ]
  },
  {
   "cell_type": "code",
   "execution_count": 27,
   "id": "83cac3ad",
   "metadata": {},
   "outputs": [],
   "source": [
    "#takes the combined sensor data and bins the data by taking the average depending on the seconds required\n",
    "\n",
    "def group_into_seconds(df, num_seconds):\n",
    "    #calculates the number of rows to average over by converting seconds to ms and diving by 50 (sensor interval)\n",
    "    n_rows = (num_seconds*1000)/50\n",
    "    print('Grouped every', n_rows, 'rows')\n",
    "    tempdf = df.reset_index()\n",
    "    tempdf['index'] = tempdf['index']//n_rows\n",
    "    return tempdf.groupby(by = ['index', 'code', 'subject_id']).mean().reset_index()\n",
    "    #return df.groupby(np.arange(len(df))//n_rows).mean().compute()"
   ]
  },
  {
   "cell_type": "code",
   "execution_count": 28,
   "id": "dce4c18b",
   "metadata": {},
   "outputs": [
    {
     "name": "stdout",
     "output_type": "stream",
     "text": [
      "Grouped every 1.0 rows\n"
     ]
    },
    {
     "data": {
      "text/html": [
       "<div>\n",
       "<style scoped>\n",
       "    .dataframe tbody tr th:only-of-type {\n",
       "        vertical-align: middle;\n",
       "    }\n",
       "\n",
       "    .dataframe tbody tr th {\n",
       "        vertical-align: top;\n",
       "    }\n",
       "\n",
       "    .dataframe thead th {\n",
       "        text-align: right;\n",
       "    }\n",
       "</style>\n",
       "<table border=\"1\" class=\"dataframe\">\n",
       "  <thead>\n",
       "    <tr style=\"text-align: right;\">\n",
       "      <th></th>\n",
       "      <th>index</th>\n",
       "      <th>code</th>\n",
       "      <th>subject_id</th>\n",
       "      <th>timestamp</th>\n",
       "      <th>x_phone_accel</th>\n",
       "      <th>y_phone_accel</th>\n",
       "      <th>z_phone_accel</th>\n",
       "      <th>x_phone_gyro</th>\n",
       "      <th>y_phone_gyro</th>\n",
       "      <th>z_phone_gyro</th>\n",
       "    </tr>\n",
       "  </thead>\n",
       "  <tbody>\n",
       "    <tr>\n",
       "      <th>0</th>\n",
       "      <td>0.0</td>\n",
       "      <td>A</td>\n",
       "      <td>1600</td>\n",
       "      <td>2.522079e+14</td>\n",
       "      <td>-4.332779</td>\n",
       "      <td>13.361191</td>\n",
       "      <td>-0.718872</td>\n",
       "      <td>-0.853210</td>\n",
       "      <td>0.297226</td>\n",
       "      <td>0.890182</td>\n",
       "    </tr>\n",
       "    <tr>\n",
       "      <th>1</th>\n",
       "      <td>0.0</td>\n",
       "      <td>A</td>\n",
       "      <td>1601</td>\n",
       "      <td>2.650733e+14</td>\n",
       "      <td>4.703409</td>\n",
       "      <td>9.127296</td>\n",
       "      <td>0.064045</td>\n",
       "      <td>-0.020240</td>\n",
       "      <td>-0.004261</td>\n",
       "      <td>-0.023436</td>\n",
       "    </tr>\n",
       "    <tr>\n",
       "      <th>2</th>\n",
       "      <td>0.0</td>\n",
       "      <td>A</td>\n",
       "      <td>1602</td>\n",
       "      <td>9.901968e+13</td>\n",
       "      <td>6.473099</td>\n",
       "      <td>-11.660782</td>\n",
       "      <td>-2.848984</td>\n",
       "      <td>-0.719742</td>\n",
       "      <td>0.398651</td>\n",
       "      <td>-0.167114</td>\n",
       "    </tr>\n",
       "    <tr>\n",
       "      <th>3</th>\n",
       "      <td>1.0</td>\n",
       "      <td>A</td>\n",
       "      <td>1600</td>\n",
       "      <td>2.522080e+14</td>\n",
       "      <td>-0.319443</td>\n",
       "      <td>13.318359</td>\n",
       "      <td>-0.232025</td>\n",
       "      <td>-0.875137</td>\n",
       "      <td>0.015472</td>\n",
       "      <td>0.162231</td>\n",
       "    </tr>\n",
       "    <tr>\n",
       "      <th>4</th>\n",
       "      <td>1.0</td>\n",
       "      <td>A</td>\n",
       "      <td>1601</td>\n",
       "      <td>2.650733e+14</td>\n",
       "      <td>5.354632</td>\n",
       "      <td>15.635334</td>\n",
       "      <td>-0.629077</td>\n",
       "      <td>-1.213602</td>\n",
       "      <td>0.055394</td>\n",
       "      <td>-0.369647</td>\n",
       "    </tr>\n",
       "    <tr>\n",
       "      <th>...</th>\n",
       "      <td>...</td>\n",
       "      <td>...</td>\n",
       "      <td>...</td>\n",
       "      <td>...</td>\n",
       "      <td>...</td>\n",
       "      <td>...</td>\n",
       "      <td>...</td>\n",
       "      <td>...</td>\n",
       "      <td>...</td>\n",
       "      <td>...</td>\n",
       "    </tr>\n",
       "    <tr>\n",
       "      <th>192522</th>\n",
       "      <td>81185.0</td>\n",
       "      <td>S</td>\n",
       "      <td>1601</td>\n",
       "      <td>2.589087e+14</td>\n",
       "      <td>2.015319</td>\n",
       "      <td>9.988011</td>\n",
       "      <td>0.746392</td>\n",
       "      <td>0.034621</td>\n",
       "      <td>-0.045806</td>\n",
       "      <td>-0.041812</td>\n",
       "    </tr>\n",
       "    <tr>\n",
       "      <th>192523</th>\n",
       "      <td>81186.0</td>\n",
       "      <td>S</td>\n",
       "      <td>1601</td>\n",
       "      <td>2.589087e+14</td>\n",
       "      <td>1.681927</td>\n",
       "      <td>10.074801</td>\n",
       "      <td>1.726219</td>\n",
       "      <td>0.146474</td>\n",
       "      <td>0.045274</td>\n",
       "      <td>-0.059655</td>\n",
       "    </tr>\n",
       "    <tr>\n",
       "      <th>192524</th>\n",
       "      <td>81187.0</td>\n",
       "      <td>S</td>\n",
       "      <td>1601</td>\n",
       "      <td>2.589088e+14</td>\n",
       "      <td>1.148020</td>\n",
       "      <td>9.127296</td>\n",
       "      <td>1.492186</td>\n",
       "      <td>0.019175</td>\n",
       "      <td>0.034887</td>\n",
       "      <td>-0.078563</td>\n",
       "    </tr>\n",
       "    <tr>\n",
       "      <th>192525</th>\n",
       "      <td>81188.0</td>\n",
       "      <td>S</td>\n",
       "      <td>1601</td>\n",
       "      <td>2.589088e+14</td>\n",
       "      <td>1.417966</td>\n",
       "      <td>9.126099</td>\n",
       "      <td>1.077989</td>\n",
       "      <td>0.226901</td>\n",
       "      <td>-0.001065</td>\n",
       "      <td>-0.113451</td>\n",
       "    </tr>\n",
       "    <tr>\n",
       "      <th>192526</th>\n",
       "      <td>81189.0</td>\n",
       "      <td>S</td>\n",
       "      <td>1601</td>\n",
       "      <td>2.589089e+14</td>\n",
       "      <td>1.383250</td>\n",
       "      <td>10.053851</td>\n",
       "      <td>2.373252</td>\n",
       "      <td>0.304133</td>\n",
       "      <td>0.148338</td>\n",
       "      <td>-0.103597</td>\n",
       "    </tr>\n",
       "  </tbody>\n",
       "</table>\n",
       "<p>192527 rows × 10 columns</p>\n",
       "</div>"
      ],
      "text/plain": [
       "          index code  subject_id     timestamp  x_phone_accel  y_phone_accel  \\\n",
       "0           0.0    A        1600  2.522079e+14      -4.332779      13.361191   \n",
       "1           0.0    A        1601  2.650733e+14       4.703409       9.127296   \n",
       "2           0.0    A        1602  9.901968e+13       6.473099     -11.660782   \n",
       "3           1.0    A        1600  2.522080e+14      -0.319443      13.318359   \n",
       "4           1.0    A        1601  2.650733e+14       5.354632      15.635334   \n",
       "...         ...  ...         ...           ...            ...            ...   \n",
       "192522  81185.0    S        1601  2.589087e+14       2.015319       9.988011   \n",
       "192523  81186.0    S        1601  2.589087e+14       1.681927      10.074801   \n",
       "192524  81187.0    S        1601  2.589088e+14       1.148020       9.127296   \n",
       "192525  81188.0    S        1601  2.589088e+14       1.417966       9.126099   \n",
       "192526  81189.0    S        1601  2.589089e+14       1.383250      10.053851   \n",
       "\n",
       "        z_phone_accel  x_phone_gyro  y_phone_gyro  z_phone_gyro  \n",
       "0           -0.718872     -0.853210      0.297226      0.890182  \n",
       "1            0.064045     -0.020240     -0.004261     -0.023436  \n",
       "2           -2.848984     -0.719742      0.398651     -0.167114  \n",
       "3           -0.232025     -0.875137      0.015472      0.162231  \n",
       "4           -0.629077     -1.213602      0.055394     -0.369647  \n",
       "...               ...           ...           ...           ...  \n",
       "192522       0.746392      0.034621     -0.045806     -0.041812  \n",
       "192523       1.726219      0.146474      0.045274     -0.059655  \n",
       "192524       1.492186      0.019175      0.034887     -0.078563  \n",
       "192525       1.077989      0.226901     -0.001065     -0.113451  \n",
       "192526       2.373252      0.304133      0.148338     -0.103597  \n",
       "\n",
       "[192527 rows x 10 columns]"
      ]
     },
     "execution_count": 28,
     "metadata": {},
     "output_type": "execute_result"
    }
   ],
   "source": [
    "#just testing to make sure it returns the same exact data frame when growing rows = 1\n",
    "group_into_seconds(phone_df.compute(),50/1000)"
   ]
  },
  {
   "cell_type": "code",
   "execution_count": 51,
   "id": "68832717-c9ed-49ee-9f80-29ec18a63903",
   "metadata": {},
   "outputs": [
    {
     "data": {
      "text/plain": [
       "(192527,)"
      ]
     },
     "execution_count": 51,
     "metadata": {},
     "output_type": "execute_result"
    }
   ],
   "source": [
    "dd.compute(phone_df.shape[0])"
   ]
  },
  {
   "cell_type": "code",
   "execution_count": 29,
   "id": "9727c440-f69b-49cc-a800-2709d707cd3c",
   "metadata": {},
   "outputs": [
    {
     "name": "stdout",
     "output_type": "stream",
     "text": [
      "Grouped every 40.0 rows\n"
     ]
    },
    {
     "data": {
      "text/html": [
       "<div>\n",
       "<style scoped>\n",
       "    .dataframe tbody tr th:only-of-type {\n",
       "        vertical-align: middle;\n",
       "    }\n",
       "\n",
       "    .dataframe tbody tr th {\n",
       "        vertical-align: top;\n",
       "    }\n",
       "\n",
       "    .dataframe thead th {\n",
       "        text-align: right;\n",
       "    }\n",
       "</style>\n",
       "<table border=\"1\" class=\"dataframe\">\n",
       "  <thead>\n",
       "    <tr style=\"text-align: right;\">\n",
       "      <th></th>\n",
       "      <th>index</th>\n",
       "      <th>code</th>\n",
       "      <th>subject_id</th>\n",
       "      <th>timestamp</th>\n",
       "      <th>x_phone_accel</th>\n",
       "      <th>y_phone_accel</th>\n",
       "      <th>z_phone_accel</th>\n",
       "      <th>x_phone_gyro</th>\n",
       "      <th>y_phone_gyro</th>\n",
       "      <th>z_phone_gyro</th>\n",
       "    </tr>\n",
       "  </thead>\n",
       "  <tbody>\n",
       "    <tr>\n",
       "      <th>0</th>\n",
       "      <td>0.0</td>\n",
       "      <td>A</td>\n",
       "      <td>1600</td>\n",
       "      <td>2.522089e+14</td>\n",
       "      <td>-0.761446</td>\n",
       "      <td>9.592215</td>\n",
       "      <td>0.603744</td>\n",
       "      <td>0.019192</td>\n",
       "      <td>0.033724</td>\n",
       "      <td>-0.022198</td>\n",
       "    </tr>\n",
       "    <tr>\n",
       "      <th>1</th>\n",
       "      <td>0.0</td>\n",
       "      <td>A</td>\n",
       "      <td>1601</td>\n",
       "      <td>2.650741e+14</td>\n",
       "      <td>5.427745</td>\n",
       "      <td>8.020216</td>\n",
       "      <td>0.760668</td>\n",
       "      <td>-0.307735</td>\n",
       "      <td>-0.024674</td>\n",
       "      <td>-0.384720</td>\n",
       "    </tr>\n",
       "    <tr>\n",
       "      <th>2</th>\n",
       "      <td>0.0</td>\n",
       "      <td>A</td>\n",
       "      <td>1602</td>\n",
       "      <td>9.902066e+13</td>\n",
       "      <td>0.206524</td>\n",
       "      <td>-10.133050</td>\n",
       "      <td>-0.132149</td>\n",
       "      <td>-0.139928</td>\n",
       "      <td>0.477531</td>\n",
       "      <td>0.082656</td>\n",
       "    </tr>\n",
       "    <tr>\n",
       "      <th>3</th>\n",
       "      <td>1.0</td>\n",
       "      <td>A</td>\n",
       "      <td>1600</td>\n",
       "      <td>2.522109e+14</td>\n",
       "      <td>-1.292985</td>\n",
       "      <td>9.781393</td>\n",
       "      <td>0.121822</td>\n",
       "      <td>0.017720</td>\n",
       "      <td>0.027203</td>\n",
       "      <td>0.003144</td>\n",
       "    </tr>\n",
       "    <tr>\n",
       "      <th>4</th>\n",
       "      <td>1.0</td>\n",
       "      <td>A</td>\n",
       "      <td>1601</td>\n",
       "      <td>2.650757e+14</td>\n",
       "      <td>5.048399</td>\n",
       "      <td>8.310723</td>\n",
       "      <td>1.065435</td>\n",
       "      <td>0.243320</td>\n",
       "      <td>-0.192886</td>\n",
       "      <td>0.058203</td>\n",
       "    </tr>\n",
       "    <tr>\n",
       "      <th>...</th>\n",
       "      <td>...</td>\n",
       "      <td>...</td>\n",
       "      <td>...</td>\n",
       "      <td>...</td>\n",
       "      <td>...</td>\n",
       "      <td>...</td>\n",
       "      <td>...</td>\n",
       "      <td>...</td>\n",
       "      <td>...</td>\n",
       "      <td>...</td>\n",
       "    </tr>\n",
       "    <tr>\n",
       "      <th>4857</th>\n",
       "      <td>2025.0</td>\n",
       "      <td>S</td>\n",
       "      <td>1601</td>\n",
       "      <td>2.589021e+14</td>\n",
       "      <td>1.380557</td>\n",
       "      <td>9.561274</td>\n",
       "      <td>0.410172</td>\n",
       "      <td>0.021172</td>\n",
       "      <td>-0.307375</td>\n",
       "      <td>-0.057178</td>\n",
       "    </tr>\n",
       "    <tr>\n",
       "      <th>4858</th>\n",
       "      <td>2026.0</td>\n",
       "      <td>S</td>\n",
       "      <td>1601</td>\n",
       "      <td>2.589037e+14</td>\n",
       "      <td>1.253365</td>\n",
       "      <td>9.688526</td>\n",
       "      <td>-0.176632</td>\n",
       "      <td>-0.030194</td>\n",
       "      <td>0.179577</td>\n",
       "      <td>-0.004208</td>\n",
       "    </tr>\n",
       "    <tr>\n",
       "      <th>4859</th>\n",
       "      <td>2027.0</td>\n",
       "      <td>S</td>\n",
       "      <td>1601</td>\n",
       "      <td>2.589053e+14</td>\n",
       "      <td>1.649829</td>\n",
       "      <td>9.535866</td>\n",
       "      <td>1.240825</td>\n",
       "      <td>-0.027590</td>\n",
       "      <td>-0.041286</td>\n",
       "      <td>0.039075</td>\n",
       "    </tr>\n",
       "    <tr>\n",
       "      <th>4860</th>\n",
       "      <td>2028.0</td>\n",
       "      <td>S</td>\n",
       "      <td>1601</td>\n",
       "      <td>2.589069e+14</td>\n",
       "      <td>2.017968</td>\n",
       "      <td>9.620830</td>\n",
       "      <td>-0.410261</td>\n",
       "      <td>0.002696</td>\n",
       "      <td>-0.173152</td>\n",
       "      <td>-0.013003</td>\n",
       "    </tr>\n",
       "    <tr>\n",
       "      <th>4861</th>\n",
       "      <td>2029.0</td>\n",
       "      <td>S</td>\n",
       "      <td>1601</td>\n",
       "      <td>2.589083e+14</td>\n",
       "      <td>1.979805</td>\n",
       "      <td>9.455361</td>\n",
       "      <td>0.725323</td>\n",
       "      <td>0.000932</td>\n",
       "      <td>0.461419</td>\n",
       "      <td>-0.015136</td>\n",
       "    </tr>\n",
       "  </tbody>\n",
       "</table>\n",
       "<p>4862 rows × 10 columns</p>\n",
       "</div>"
      ],
      "text/plain": [
       "       index code  subject_id     timestamp  x_phone_accel  y_phone_accel  \\\n",
       "0        0.0    A        1600  2.522089e+14      -0.761446       9.592215   \n",
       "1        0.0    A        1601  2.650741e+14       5.427745       8.020216   \n",
       "2        0.0    A        1602  9.902066e+13       0.206524     -10.133050   \n",
       "3        1.0    A        1600  2.522109e+14      -1.292985       9.781393   \n",
       "4        1.0    A        1601  2.650757e+14       5.048399       8.310723   \n",
       "...      ...  ...         ...           ...            ...            ...   \n",
       "4857  2025.0    S        1601  2.589021e+14       1.380557       9.561274   \n",
       "4858  2026.0    S        1601  2.589037e+14       1.253365       9.688526   \n",
       "4859  2027.0    S        1601  2.589053e+14       1.649829       9.535866   \n",
       "4860  2028.0    S        1601  2.589069e+14       2.017968       9.620830   \n",
       "4861  2029.0    S        1601  2.589083e+14       1.979805       9.455361   \n",
       "\n",
       "      z_phone_accel  x_phone_gyro  y_phone_gyro  z_phone_gyro  \n",
       "0          0.603744      0.019192      0.033724     -0.022198  \n",
       "1          0.760668     -0.307735     -0.024674     -0.384720  \n",
       "2         -0.132149     -0.139928      0.477531      0.082656  \n",
       "3          0.121822      0.017720      0.027203      0.003144  \n",
       "4          1.065435      0.243320     -0.192886      0.058203  \n",
       "...             ...           ...           ...           ...  \n",
       "4857       0.410172      0.021172     -0.307375     -0.057178  \n",
       "4858      -0.176632     -0.030194      0.179577     -0.004208  \n",
       "4859       1.240825     -0.027590     -0.041286      0.039075  \n",
       "4860      -0.410261      0.002696     -0.173152     -0.013003  \n",
       "4861       0.725323      0.000932      0.461419     -0.015136  \n",
       "\n",
       "[4862 rows x 10 columns]"
      ]
     },
     "execution_count": 29,
     "metadata": {},
     "output_type": "execute_result"
    }
   ],
   "source": [
    "group_into_seconds(phone_df.compute(),2)"
   ]
  },
  {
   "cell_type": "code",
   "execution_count": 30,
   "id": "fe9a57b5-7eb7-46c8-b061-42abf543e348",
   "metadata": {},
   "outputs": [
    {
     "name": "stdout",
     "output_type": "stream",
     "text": [
      "Grouped every 40.0 rows\n",
      "Grouped every 40.0 rows\n"
     ]
    }
   ],
   "source": [
    "grouped_phone_df = group_into_seconds(phone_df.compute(),2)\n",
    "grouped_watch_df = group_into_seconds(watch_df.compute(),2)"
   ]
  },
  {
   "cell_type": "code",
   "execution_count": null,
   "id": "62387d80-6024-4027-a237-42ffa4c2715e",
   "metadata": {},
   "outputs": [],
   "source": []
  },
  {
   "cell_type": "code",
   "execution_count": null,
   "id": "8174665f-ad69-469f-a477-4a7e51511120",
   "metadata": {},
   "outputs": [],
   "source": [
    "# # write out to excel (wireframe)\n",
    "# file_name = 'file_name'\n",
    "# writer = pd.ExcelWriter(f'{file_name}.xlsx', engine='xlsxwriter')\n",
    "# df.to_excel(writer, sheet_name='sheet-name')\n",
    "# writer.save()"
   ]
  },
  {
   "cell_type": "code",
   "execution_count": null,
   "id": "758bf009-9308-4ec8-b5ee-5d89b592ff6d",
   "metadata": {},
   "outputs": [],
   "source": [
    "# # output the to .tsv/csv (wireframe)\n",
    "# file_name = 'file_name'\n",
    "# df = df#.astype(str) #preserve dtype with str if not already\n",
    "# # should output as .tsv to retain data structure\n",
    "# df.to_csv(fr'{file_name}.tsv', sep='\\t', index=False)"
   ]
  },
  {
   "cell_type": "code",
   "execution_count": null,
   "id": "09ecebc4-e200-4539-88ad-29fff80f87b6",
   "metadata": {},
   "outputs": [],
   "source": [
    "# # serialize file (wireframe)\n",
    "# file_name = 'file_name'\n",
    "# df = df\n",
    "# df.to_pickle(f\"./{file_name}.pkl\")"
   ]
  },
  {
   "cell_type": "code",
   "execution_count": null,
   "id": "4eb80f82-d595-4052-8525-1e3eda61628f",
   "metadata": {},
   "outputs": [],
   "source": [
    "# # read serialized file (wireframe)\n",
    "# file_name = 'file_name'\n",
    "# unpickled_df = pd.read_pickle(f\"./{file_name}.pkl\")"
   ]
  },
  {
   "cell_type": "code",
   "execution_count": null,
   "id": "49a70ec8-7038-431c-9d2f-c2fd5dc775b0",
   "metadata": {},
   "outputs": [],
   "source": [
    "# # uncompress file and read in to dask (wireframe)\n",
    "# file_name = 'file_name'\n",
    "# unpickled_df = pd.read_pickle(f\"./{file_name}.pkl\")\n",
    "# ddf = dd.from_pandas(unpickled_df, npartitions=8)"
   ]
  },
  {
   "cell_type": "code",
   "execution_count": null,
   "id": "5635085d-9020-49c5-980e-5a31a1f31e08",
   "metadata": {},
   "outputs": [],
   "source": [
    "# write out file to csv\n",
    "# needed so we can copy from local into hadoop\n",
    "file_name = 'data_phone_accel'\n",
    "df = phone_accel\n",
    "# should output as .tsv to retain data structure\n",
    "df.to_csv(fr'./prepped-data/{file_name}.csv')"
   ]
  },
  {
   "cell_type": "code",
   "execution_count": null,
   "id": "ab7c3ed2",
   "metadata": {},
   "outputs": [],
   "source": [
    "# # read in file as a dask dataframe\n",
    "# phone_accel = dd.read_csv(f\"prepped-data/{file_name}.csv\")"
   ]
  },
  {
   "cell_type": "markdown",
   "id": "48fd078d",
   "metadata": {},
   "source": [
    "**<font color='red'>I don't think we actually need hadoop. saving in case we do and/or syntax for running other  bash commands</font>**"
   ]
  },
  {
   "cell_type": "code",
   "execution_count": null,
   "id": "657f6293-0a42-4880-9e5e-9cbedd83e586",
   "metadata": {},
   "outputs": [],
   "source": [
    "%%bash\n",
    "dir"
   ]
  },
  {
   "cell_type": "markdown",
   "id": "0f32e901-de33-4f24-a872-9709ffaf8678",
   "metadata": {},
   "source": [
    "**create hadoop directory**"
   ]
  },
  {
   "cell_type": "code",
   "execution_count": null,
   "id": "b318e4ee-8b1c-4c45-8b27-bc2d61caf8fd",
   "metadata": {},
   "outputs": [],
   "source": [
    "%%bash\n",
    "hadoop fs -mkdir /hdfs-data"
   ]
  },
  {
   "cell_type": "markdown",
   "id": "c233432d-e7f5-499c-93a2-ce733bdefe8a",
   "metadata": {},
   "source": [
    "**copy from local into hadoop**"
   ]
  },
  {
   "cell_type": "code",
   "execution_count": null,
   "id": "d4c0ca51-a456-4f76-bc47-77cda968014c",
   "metadata": {},
   "outputs": [],
   "source": [
    "%%bash\n",
    "hadoop fs -copyFromLocal prepped-data/data_phone_accel.csv /hdfs-data"
   ]
  },
  {
   "cell_type": "markdown",
   "id": "54f654d8-030e-48c1-8b47-86fb43341cc7",
   "metadata": {},
   "source": [
    "**make sure file is in hadoop**"
   ]
  },
  {
   "cell_type": "code",
   "execution_count": null,
   "id": "a0b37352-c3d0-42e4-93a1-fe2182497af0",
   "metadata": {},
   "outputs": [],
   "source": [
    "%%bash\n",
    "hadoop fs -ls /hdfs-data"
   ]
  },
  {
   "cell_type": "code",
   "execution_count": null,
   "id": "138f749f-af31-4b2d-b94e-f99f5c53d9d4",
   "metadata": {},
   "outputs": [],
   "source": []
  },
  {
   "cell_type": "markdown",
   "id": "868e66b4",
   "metadata": {},
   "source": [
    "- Use PySpark or Dask\n",
    "- Include one classificationorregressionorclusteranalysis task\n",
    "- Describe problem\n",
    "    - To include:  Explain why problem is interesting, what real-life application is being addressed\n",
    "- Describe analysis task\n",
    "    - To include:  type of task (e.g., classification), how does task related to business problem\n",
    "- Describe data\n",
    "    - To include:  data quality issues, characteristics of the dataset (summary statistics,\n",
    "correlation, outliers, etc.), plots\n",
    "- Describe data preparation process\n",
    "    - To include:  data cleaning steps, features used, train/validation/test datasets\n",
    "- Describe analysis approaches\n",
    "    - To include:  input, setup, and output of model(s)\n",
    "- Describe challenges and solutions\n",
    "    - To include:  challenges encountered, solutions to address challenges\n",
    "- Describe analysis results and insights gained\n",
    "    - To include:  discussion of results, insights gained from analysis\n",
    "- Describe future work\n",
    "    - To include:  lessons learned, next steps, what you would have done differently"
   ]
  },
  {
   "cell_type": "markdown",
   "id": "0ba21899",
   "metadata": {},
   "source": [
    "\n",
    "\n",
    "\n",
    "Measures movement data over ten-second\n",
    "intervals while subjects perform the various tasks."
   ]
  },
  {
   "cell_type": "markdown",
   "id": "ed9059f0",
   "metadata": {},
   "source": [
    "## Analysis approaches"
   ]
  },
  {
   "cell_type": "markdown",
   "id": "7c9e5171",
   "metadata": {},
   "source": []
  },
  {
   "cell_type": "markdown",
   "id": "5077de4a",
   "metadata": {},
   "source": [
    "### Model Selection\n",
    "\n",
    "<font color='red'>this section is wildly incomplete</font>\n",
    "\n",
    "[**sklearn - Decision Tree Regression with AdaBoost**](https://scikit-learn.org/stable/auto_examples/ensemble/plot_adaboost_regression.html)"
   ]
  },
  {
   "cell_type": "code",
   "execution_count": 31,
   "id": "3ecf55aa",
   "metadata": {},
   "outputs": [
    {
     "data": {
      "text/html": [
       "<div>\n",
       "<style scoped>\n",
       "    .dataframe tbody tr th:only-of-type {\n",
       "        vertical-align: middle;\n",
       "    }\n",
       "\n",
       "    .dataframe tbody tr th {\n",
       "        vertical-align: top;\n",
       "    }\n",
       "\n",
       "    .dataframe thead th {\n",
       "        text-align: right;\n",
       "    }\n",
       "</style>\n",
       "<table border=\"1\" class=\"dataframe\">\n",
       "  <thead>\n",
       "    <tr style=\"text-align: right;\">\n",
       "      <th></th>\n",
       "      <th>subject_id</th>\n",
       "      <th>code</th>\n",
       "      <th>timestamp</th>\n",
       "      <th>x</th>\n",
       "      <th>y</th>\n",
       "      <th>z</th>\n",
       "    </tr>\n",
       "    <tr>\n",
       "      <th>index</th>\n",
       "      <th></th>\n",
       "      <th></th>\n",
       "      <th></th>\n",
       "      <th></th>\n",
       "      <th></th>\n",
       "      <th></th>\n",
       "    </tr>\n",
       "  </thead>\n",
       "  <tbody>\n",
       "    <tr>\n",
       "      <th>1600A252207666810782</th>\n",
       "      <td>1600</td>\n",
       "      <td>A</td>\n",
       "      <td>252207666810782</td>\n",
       "      <td>-0.364761</td>\n",
       "      <td>8.793503</td>\n",
       "      <td>1.055084</td>\n",
       "    </tr>\n",
       "    <tr>\n",
       "      <th>1600A252207717164786</th>\n",
       "      <td>1600</td>\n",
       "      <td>A</td>\n",
       "      <td>252207717164786</td>\n",
       "      <td>-0.879730</td>\n",
       "      <td>9.768784</td>\n",
       "      <td>1.016998</td>\n",
       "    </tr>\n",
       "    <tr>\n",
       "      <th>1600A252207767518790</th>\n",
       "      <td>1600</td>\n",
       "      <td>A</td>\n",
       "      <td>252207767518790</td>\n",
       "      <td>2.001495</td>\n",
       "      <td>11.109070</td>\n",
       "      <td>2.619156</td>\n",
       "    </tr>\n",
       "    <tr>\n",
       "      <th>1600A252207817872794</th>\n",
       "      <td>1600</td>\n",
       "      <td>A</td>\n",
       "      <td>252207817872794</td>\n",
       "      <td>0.450623</td>\n",
       "      <td>12.651642</td>\n",
       "      <td>0.184555</td>\n",
       "    </tr>\n",
       "    <tr>\n",
       "      <th>1600A252207868226798</th>\n",
       "      <td>1600</td>\n",
       "      <td>A</td>\n",
       "      <td>252207868226798</td>\n",
       "      <td>-2.164352</td>\n",
       "      <td>13.928436</td>\n",
       "      <td>-4.422485</td>\n",
       "    </tr>\n",
       "  </tbody>\n",
       "</table>\n",
       "</div>"
      ],
      "text/plain": [
       "                      subject_id code        timestamp         x          y  \\\n",
       "index                                                                         \n",
       "1600A252207666810782        1600    A  252207666810782 -0.364761   8.793503   \n",
       "1600A252207717164786        1600    A  252207717164786 -0.879730   9.768784   \n",
       "1600A252207767518790        1600    A  252207767518790  2.001495  11.109070   \n",
       "1600A252207817872794        1600    A  252207817872794  0.450623  12.651642   \n",
       "1600A252207868226798        1600    A  252207868226798 -2.164352  13.928436   \n",
       "\n",
       "                             z  \n",
       "index                           \n",
       "1600A252207666810782  1.055084  \n",
       "1600A252207717164786  1.016998  \n",
       "1600A252207767518790  2.619156  \n",
       "1600A252207817872794  0.184555  \n",
       "1600A252207868226798 -4.422485  "
      ]
     },
     "execution_count": 31,
     "metadata": {},
     "output_type": "execute_result"
    }
   ],
   "source": [
    "phone_accel.head()"
   ]
  },
  {
   "cell_type": "code",
   "execution_count": 32,
   "id": "370eba7b",
   "metadata": {},
   "outputs": [],
   "source": [
    "# TRAIN TEST SPLIT\n",
    "\n",
    "# split off labels\n",
    "feat_cols = ['x', 'y', 'z']\n",
    "label_col = ['code']\n",
    "\n",
    "feature_df = phone_accel[feat_cols]\n",
    "label_df = phone_accel[label_col]\n",
    "\n",
    "X_train, x_test, y_train, y_test = train_test_split(feature_df, label_df, test_size=0.8, shuffle=True, random_state=seed)"
   ]
  },
  {
   "cell_type": "code",
   "execution_count": 33,
   "id": "aef0ee7c",
   "metadata": {},
   "outputs": [],
   "source": [
    "# SCALE DATA\n",
    "\n",
    "# instatiate scaler\n",
    "scaler = StandardScaler()\n",
    "# fit the scaler\n",
    "scalerModel = scaler.fit(X_train)\n",
    "# scale the training data\n",
    "X_train_scaled = scalerModel.transform(X_train)\n",
    "# scale the test data\n",
    "X_test_scaled = scalerModel.transform(x_test)"
   ]
  },
  {
   "cell_type": "code",
   "execution_count": 34,
   "id": "7ded986e",
   "metadata": {},
   "outputs": [],
   "source": [
    "# set up grid search parameters\n",
    "param_grid = {'max_depth'        : list(range(1, 10)), # play around with max depth\n",
    "              'min_samples_split': list(range(2, 10)), # must start at 2+\n",
    "              'criterion'        : ['gini','entropy'],\n",
    "             }"
   ]
  },
  {
   "cell_type": "code",
   "execution_count": 35,
   "id": "15bf54d9",
   "metadata": {},
   "outputs": [],
   "source": [
    "# GRID SEARCH\n",
    "\n",
    "# instantiate base model\n",
    "dt_model = DecisionTreeClassifier(random_state=seed)\n",
    "\n",
    "# istantiate grid search object\n",
    "dt_model_grid_dask = dcv.GridSearchCV(dt_model, param_grid, cv=10)\n",
    "\n",
    "# execute grid search\n",
    "'''\n",
    "does this need joblib backend if we are using native dask?\n",
    "'''\n",
    "with joblib.parallel_backend(\"dask\"):\n",
    "    dt_model_grid_dask.fit(X_train_scaled, y_train)"
   ]
  },
  {
   "cell_type": "code",
   "execution_count": 36,
   "id": "04616e29",
   "metadata": {},
   "outputs": [
    {
     "name": "stdout",
     "output_type": "stream",
     "text": [
      "{'criterion': 'entropy', 'max_depth': 9, 'min_samples_split': 5}\n"
     ]
    }
   ],
   "source": [
    "best_params = dt_model_grid_dask.best_params_\n",
    "print(best_params)"
   ]
  },
  {
   "cell_type": "code",
   "execution_count": 37,
   "id": "f47a6484",
   "metadata": {},
   "outputs": [
    {
     "name": "stdout",
     "output_type": "stream",
     "text": [
      "0.720796364423285\n"
     ]
    }
   ],
   "source": [
    "print(dt_model_grid_dask.best_score_)"
   ]
  },
  {
   "cell_type": "code",
   "execution_count": 38,
   "id": "600813c0-9dba-4ee5-b9e2-4d075c77113c",
   "metadata": {},
   "outputs": [
    {
     "data": {
      "text/plain": [
       "0.7410218598195697"
      ]
     },
     "execution_count": 38,
     "metadata": {},
     "output_type": "execute_result"
    }
   ],
   "source": [
    "# now that we've performed a gridsearch, use parameters from out best model\n",
    "\n",
    "# instantiate best model\n",
    "best_dt_model = DecisionTreeClassifier(\n",
    "    max_depth=best_params['max_depth'],\n",
    "    min_samples_split=best_params['min_samples_split'],\n",
    "    criterion=best_params['criterion'],\n",
    "    random_state=seed\n",
    ")\n",
    "\n",
    "# fit model to training data\n",
    "'''\n",
    "does this need joblib backend if we are using native dask?\n",
    "'''\n",
    "with joblib.parallel_backend(\"dask\"):\n",
    "    best_dt_model.fit(X_train_scaled, y_train)\n",
    "\n",
    "# check accuracy from this model on test data\n",
    "best_dt_model.score(X_test_scaled, y_test)"
   ]
  },
  {
   "cell_type": "markdown",
   "id": "a1692893",
   "metadata": {},
   "source": [
    "## Analysis results"
   ]
  },
  {
   "cell_type": "markdown",
   "id": "ac8b598e",
   "metadata": {},
   "source": [
    "## Challenges & solutions"
   ]
  },
  {
   "cell_type": "markdown",
   "id": "4d9d39c8",
   "metadata": {},
   "source": [
    "## Insights gained"
   ]
  },
  {
   "cell_type": "markdown",
   "id": "c5ce8781",
   "metadata": {},
   "source": [
    "## Future work"
   ]
  },
  {
   "cell_type": "markdown",
   "id": "2b20bd37",
   "metadata": {},
   "source": [
    "## References\n",
    "\n",
    "1. Dask vs spark picture: https://medium.datadriveninvestor.com/pandas-dask-or-pyspark-what-should-you-choose-for-your-dataset-c0f67e1b1d36\n",
    "2. Accelerometer information https://en.wikipedia.org/wiki/Accelerometer\n",
    "3. Gyroscope Information https://en.wikipedia.org/wiki/Gyroscope"
   ]
  },
  {
   "cell_type": "code",
   "execution_count": 22,
   "id": "e4926b27",
   "metadata": {},
   "outputs": [],
   "source": [
    "# always close client connection at end of workflow\n",
    "client.shutdown()"
   ]
  },
  {
   "cell_type": "code",
   "execution_count": null,
   "id": "dab0876e",
   "metadata": {},
   "outputs": [],
   "source": []
  }
 ],
 "metadata": {
  "kernelspec": {
   "display_name": "Python 3 (ipykernel)",
   "language": "python",
   "name": "python3"
  },
  "language_info": {
   "codemirror_mode": {
    "name": "ipython",
    "version": 3
   },
   "file_extension": ".py",
   "mimetype": "text/x-python",
   "name": "python",
   "nbconvert_exporter": "python",
   "pygments_lexer": "ipython3",
   "version": "3.8.10"
  }
 },
 "nbformat": 4,
 "nbformat_minor": 5
}
