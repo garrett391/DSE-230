{
 "cells": [
  {
   "cell_type": "code",
   "execution_count": 1,
   "id": "d307a289-2d1a-4ae0-b87b-44bc211203bd",
   "metadata": {},
   "outputs": [],
   "source": [
    "# libraries\n",
    "import os\n",
    "import dask\n",
    "import pandas as pd\n",
    "import numpy as np"
   ]
  },
  {
   "cell_type": "code",
   "execution_count": 2,
   "id": "3ad287aa-e889-43e1-a3c9-560d2a2e7502",
   "metadata": {},
   "outputs": [],
   "source": [
    "import ssl\n",
    "# needed to request files when run from within docker container\n",
    "ssl._create_default_https_context = ssl._create_unverified_context"
   ]
  },
  {
   "cell_type": "markdown",
   "id": "1df2fa91-a025-45e3-8a66-e26a11ab5ead",
   "metadata": {},
   "source": [
    "Get data from github and prep files for analysis"
   ]
  },
  {
   "cell_type": "code",
   "execution_count": 3,
   "id": "11a388e6-a2ad-444b-86c0-e44fcbaa346e",
   "metadata": {},
   "outputs": [
    {
     "data": {
      "text/html": [
       "<div>\n",
       "<style scoped>\n",
       "    .dataframe tbody tr th:only-of-type {\n",
       "        vertical-align: middle;\n",
       "    }\n",
       "\n",
       "    .dataframe tbody tr th {\n",
       "        vertical-align: top;\n",
       "    }\n",
       "\n",
       "    .dataframe thead th {\n",
       "        text-align: right;\n",
       "    }\n",
       "</style>\n",
       "<table border=\"1\" class=\"dataframe\">\n",
       "  <thead>\n",
       "    <tr style=\"text-align: right;\">\n",
       "      <th></th>\n",
       "      <th>activity</th>\n",
       "      <th>code</th>\n",
       "    </tr>\n",
       "  </thead>\n",
       "  <tbody>\n",
       "    <tr>\n",
       "      <th>0</th>\n",
       "      <td>walking</td>\n",
       "      <td>A</td>\n",
       "    </tr>\n",
       "    <tr>\n",
       "      <th>1</th>\n",
       "      <td>jogging</td>\n",
       "      <td>B</td>\n",
       "    </tr>\n",
       "    <tr>\n",
       "      <th>2</th>\n",
       "      <td>stairs</td>\n",
       "      <td>C</td>\n",
       "    </tr>\n",
       "    <tr>\n",
       "      <th>3</th>\n",
       "      <td>sitting</td>\n",
       "      <td>D</td>\n",
       "    </tr>\n",
       "    <tr>\n",
       "      <th>4</th>\n",
       "      <td>standing</td>\n",
       "      <td>E</td>\n",
       "    </tr>\n",
       "    <tr>\n",
       "      <th>5</th>\n",
       "      <td>typing</td>\n",
       "      <td>F</td>\n",
       "    </tr>\n",
       "    <tr>\n",
       "      <th>6</th>\n",
       "      <td>teeth</td>\n",
       "      <td>G</td>\n",
       "    </tr>\n",
       "    <tr>\n",
       "      <th>7</th>\n",
       "      <td>soup</td>\n",
       "      <td>H</td>\n",
       "    </tr>\n",
       "    <tr>\n",
       "      <th>8</th>\n",
       "      <td>chips</td>\n",
       "      <td>I</td>\n",
       "    </tr>\n",
       "    <tr>\n",
       "      <th>9</th>\n",
       "      <td>pasta</td>\n",
       "      <td>J</td>\n",
       "    </tr>\n",
       "    <tr>\n",
       "      <th>10</th>\n",
       "      <td>drinking</td>\n",
       "      <td>K</td>\n",
       "    </tr>\n",
       "    <tr>\n",
       "      <th>11</th>\n",
       "      <td>sandwich</td>\n",
       "      <td>L</td>\n",
       "    </tr>\n",
       "    <tr>\n",
       "      <th>12</th>\n",
       "      <td>kicking</td>\n",
       "      <td>M</td>\n",
       "    </tr>\n",
       "    <tr>\n",
       "      <th>13</th>\n",
       "      <td>catch</td>\n",
       "      <td>O</td>\n",
       "    </tr>\n",
       "    <tr>\n",
       "      <th>14</th>\n",
       "      <td>dribbling</td>\n",
       "      <td>P</td>\n",
       "    </tr>\n",
       "    <tr>\n",
       "      <th>15</th>\n",
       "      <td>writing</td>\n",
       "      <td>Q</td>\n",
       "    </tr>\n",
       "    <tr>\n",
       "      <th>16</th>\n",
       "      <td>clapping</td>\n",
       "      <td>R</td>\n",
       "    </tr>\n",
       "    <tr>\n",
       "      <th>17</th>\n",
       "      <td>folding</td>\n",
       "      <td>S</td>\n",
       "    </tr>\n",
       "  </tbody>\n",
       "</table>\n",
       "</div>"
      ],
      "text/plain": [
       "     activity code\n",
       "0     walking    A\n",
       "1     jogging    B\n",
       "2      stairs    C\n",
       "3     sitting    D\n",
       "4    standing    E\n",
       "5      typing    F\n",
       "6       teeth    G\n",
       "7        soup    H\n",
       "8       chips    I\n",
       "9       pasta    J\n",
       "10   drinking    K\n",
       "11   sandwich    L\n",
       "12    kicking    M\n",
       "13      catch    O\n",
       "14  dribbling    P\n",
       "15    writing    Q\n",
       "16   clapping    R\n",
       "17    folding    S"
      ]
     },
     "execution_count": 3,
     "metadata": {},
     "output_type": "execute_result"
    }
   ],
   "source": [
    "# key for understanding which activity is being measured in a record\n",
    "activity_key_url = r\"https://raw.githubusercontent.com/gojandrooo/DSE-230/main/data/activity_key.txt\"\n",
    "\n",
    "activity_key = pd.read_csv(activity_key_url, header=None)\n",
    "activity_key = activity_key[0].str.replace(\" \", \"\").str.split(\"=\", expand=True)\n",
    "activity_key.columns = ['activity', 'code']\n",
    "activity_key"
   ]
  },
  {
   "cell_type": "code",
   "execution_count": 4,
   "id": "9396f7a6-70ff-483b-bac9-2d195ed66154",
   "metadata": {},
   "outputs": [
    {
     "data": {
      "text/plain": [
       "['https://raw.githubusercontent.com/gojandrooo/DSE-230/main/data/phone/accel/data_1600_accel_phone.txt',\n",
       " 'https://raw.githubusercontent.com/gojandrooo/DSE-230/main/data/phone/accel/data_1601_accel_phone.txt',\n",
       " 'https://raw.githubusercontent.com/gojandrooo/DSE-230/main/data/phone/accel/data_1602_accel_phone.txt',\n",
       " 'https://raw.githubusercontent.com/gojandrooo/DSE-230/main/data/phone/accel/data_1603_accel_phone.txt',\n",
       " 'https://raw.githubusercontent.com/gojandrooo/DSE-230/main/data/phone/accel/data_1604_accel_phone.txt',\n",
       " 'https://raw.githubusercontent.com/gojandrooo/DSE-230/main/data/phone/accel/data_1605_accel_phone.txt',\n",
       " 'https://raw.githubusercontent.com/gojandrooo/DSE-230/main/data/phone/accel/data_1606_accel_phone.txt',\n",
       " 'https://raw.githubusercontent.com/gojandrooo/DSE-230/main/data/phone/accel/data_1607_accel_phone.txt',\n",
       " 'https://raw.githubusercontent.com/gojandrooo/DSE-230/main/data/phone/accel/data_1608_accel_phone.txt',\n",
       " 'https://raw.githubusercontent.com/gojandrooo/DSE-230/main/data/phone/accel/data_1609_accel_phone.txt',\n",
       " 'https://raw.githubusercontent.com/gojandrooo/DSE-230/main/data/phone/accel/data_1610_accel_phone.txt',\n",
       " 'https://raw.githubusercontent.com/gojandrooo/DSE-230/main/data/phone/accel/data_1611_accel_phone.txt',\n",
       " 'https://raw.githubusercontent.com/gojandrooo/DSE-230/main/data/phone/accel/data_1612_accel_phone.txt',\n",
       " 'https://raw.githubusercontent.com/gojandrooo/DSE-230/main/data/phone/accel/data_1613_accel_phone.txt',\n",
       " 'https://raw.githubusercontent.com/gojandrooo/DSE-230/main/data/phone/accel/data_1614_accel_phone.txt',\n",
       " 'https://raw.githubusercontent.com/gojandrooo/DSE-230/main/data/phone/accel/data_1615_accel_phone.txt',\n",
       " 'https://raw.githubusercontent.com/gojandrooo/DSE-230/main/data/phone/accel/data_1616_accel_phone.txt',\n",
       " 'https://raw.githubusercontent.com/gojandrooo/DSE-230/main/data/phone/accel/data_1617_accel_phone.txt',\n",
       " 'https://raw.githubusercontent.com/gojandrooo/DSE-230/main/data/phone/accel/data_1618_accel_phone.txt',\n",
       " 'https://raw.githubusercontent.com/gojandrooo/DSE-230/main/data/phone/accel/data_1619_accel_phone.txt',\n",
       " 'https://raw.githubusercontent.com/gojandrooo/DSE-230/main/data/phone/accel/data_1620_accel_phone.txt',\n",
       " 'https://raw.githubusercontent.com/gojandrooo/DSE-230/main/data/phone/accel/data_1621_accel_phone.txt',\n",
       " 'https://raw.githubusercontent.com/gojandrooo/DSE-230/main/data/phone/accel/data_1622_accel_phone.txt',\n",
       " 'https://raw.githubusercontent.com/gojandrooo/DSE-230/main/data/phone/accel/data_1623_accel_phone.txt',\n",
       " 'https://raw.githubusercontent.com/gojandrooo/DSE-230/main/data/phone/accel/data_1624_accel_phone.txt',\n",
       " 'https://raw.githubusercontent.com/gojandrooo/DSE-230/main/data/phone/accel/data_1625_accel_phone.txt',\n",
       " 'https://raw.githubusercontent.com/gojandrooo/DSE-230/main/data/phone/accel/data_1626_accel_phone.txt',\n",
       " 'https://raw.githubusercontent.com/gojandrooo/DSE-230/main/data/phone/accel/data_1627_accel_phone.txt',\n",
       " 'https://raw.githubusercontent.com/gojandrooo/DSE-230/main/data/phone/accel/data_1628_accel_phone.txt',\n",
       " 'https://raw.githubusercontent.com/gojandrooo/DSE-230/main/data/phone/accel/data_1629_accel_phone.txt',\n",
       " 'https://raw.githubusercontent.com/gojandrooo/DSE-230/main/data/phone/accel/data_1630_accel_phone.txt',\n",
       " 'https://raw.githubusercontent.com/gojandrooo/DSE-230/main/data/phone/accel/data_1631_accel_phone.txt',\n",
       " 'https://raw.githubusercontent.com/gojandrooo/DSE-230/main/data/phone/accel/data_1632_accel_phone.txt',\n",
       " 'https://raw.githubusercontent.com/gojandrooo/DSE-230/main/data/phone/accel/data_1633_accel_phone.txt',\n",
       " 'https://raw.githubusercontent.com/gojandrooo/DSE-230/main/data/phone/accel/data_1634_accel_phone.txt',\n",
       " 'https://raw.githubusercontent.com/gojandrooo/DSE-230/main/data/phone/accel/data_1635_accel_phone.txt',\n",
       " 'https://raw.githubusercontent.com/gojandrooo/DSE-230/main/data/phone/accel/data_1636_accel_phone.txt',\n",
       " 'https://raw.githubusercontent.com/gojandrooo/DSE-230/main/data/phone/accel/data_1637_accel_phone.txt',\n",
       " 'https://raw.githubusercontent.com/gojandrooo/DSE-230/main/data/phone/accel/data_1638_accel_phone.txt',\n",
       " 'https://raw.githubusercontent.com/gojandrooo/DSE-230/main/data/phone/accel/data_1639_accel_phone.txt',\n",
       " 'https://raw.githubusercontent.com/gojandrooo/DSE-230/main/data/phone/accel/data_1640_accel_phone.txt',\n",
       " 'https://raw.githubusercontent.com/gojandrooo/DSE-230/main/data/phone/accel/data_1641_accel_phone.txt',\n",
       " 'https://raw.githubusercontent.com/gojandrooo/DSE-230/main/data/phone/accel/data_1642_accel_phone.txt',\n",
       " 'https://raw.githubusercontent.com/gojandrooo/DSE-230/main/data/phone/accel/data_1643_accel_phone.txt',\n",
       " 'https://raw.githubusercontent.com/gojandrooo/DSE-230/main/data/phone/accel/data_1644_accel_phone.txt',\n",
       " 'https://raw.githubusercontent.com/gojandrooo/DSE-230/main/data/phone/accel/data_1645_accel_phone.txt',\n",
       " 'https://raw.githubusercontent.com/gojandrooo/DSE-230/main/data/phone/accel/data_1646_accel_phone.txt',\n",
       " 'https://raw.githubusercontent.com/gojandrooo/DSE-230/main/data/phone/accel/data_1647_accel_phone.txt',\n",
       " 'https://raw.githubusercontent.com/gojandrooo/DSE-230/main/data/phone/accel/data_1648_accel_phone.txt',\n",
       " 'https://raw.githubusercontent.com/gojandrooo/DSE-230/main/data/phone/accel/data_1649_accel_phone.txt',\n",
       " 'https://raw.githubusercontent.com/gojandrooo/DSE-230/main/data/phone/accel/data_1650_accel_phone.txt']"
      ]
     },
     "execution_count": 4,
     "metadata": {},
     "output_type": "execute_result"
    }
   ],
   "source": [
    "base_url = r\"https://raw.githubusercontent.com/gojandrooo/DSE-230/main/data\"\n",
    "\n",
    "# TOGGLE FOR DEVICE\n",
    "device = \"phone\"\n",
    "#device = \"watch\"\n",
    "\n",
    "# TOGGLE FOR MEASUREMENT TYPE\n",
    "data_type = \"accel\"\n",
    "#data_type = \"gyro\"\n",
    "\n",
    "# create list of all file names\n",
    "file_names = [f\"/data_{user_id}_{data_type}_{device}.txt\" for user_id in range(1600, 1651)]\n",
    "\n",
    "# create fill urls of all files\n",
    "loop_urls = [base_url + \"/\" + device + \"/\" + data_type + file_name for file_name in file_names]\n",
    "loop_urls"
   ]
  },
  {
   "cell_type": "code",
   "execution_count": 5,
   "id": "19bc658a-54ff-4f1c-93b7-49f87239282e",
   "metadata": {},
   "outputs": [
    {
     "data": {
      "text/html": [
       "<div>\n",
       "<style scoped>\n",
       "    .dataframe tbody tr th:only-of-type {\n",
       "        vertical-align: middle;\n",
       "    }\n",
       "\n",
       "    .dataframe tbody tr th {\n",
       "        vertical-align: top;\n",
       "    }\n",
       "\n",
       "    .dataframe thead th {\n",
       "        text-align: right;\n",
       "    }\n",
       "</style>\n",
       "<table border=\"1\" class=\"dataframe\">\n",
       "  <thead>\n",
       "    <tr style=\"text-align: right;\">\n",
       "      <th></th>\n",
       "      <th>subject_id</th>\n",
       "      <th>code</th>\n",
       "      <th>timestamp</th>\n",
       "      <th>x</th>\n",
       "      <th>y</th>\n",
       "      <th>z</th>\n",
       "    </tr>\n",
       "  </thead>\n",
       "  <tbody>\n",
       "    <tr>\n",
       "      <th>0</th>\n",
       "      <td>1600</td>\n",
       "      <td>A</td>\n",
       "      <td>252207666810782</td>\n",
       "      <td>-0.364761</td>\n",
       "      <td>8.793503</td>\n",
       "      <td>1.055084</td>\n",
       "    </tr>\n",
       "    <tr>\n",
       "      <th>1</th>\n",
       "      <td>1600</td>\n",
       "      <td>A</td>\n",
       "      <td>252207717164786</td>\n",
       "      <td>-0.879730</td>\n",
       "      <td>9.768784</td>\n",
       "      <td>1.016998</td>\n",
       "    </tr>\n",
       "    <tr>\n",
       "      <th>2</th>\n",
       "      <td>1600</td>\n",
       "      <td>A</td>\n",
       "      <td>252207767518790</td>\n",
       "      <td>2.001495</td>\n",
       "      <td>11.109070</td>\n",
       "      <td>2.619156</td>\n",
       "    </tr>\n",
       "    <tr>\n",
       "      <th>3</th>\n",
       "      <td>1600</td>\n",
       "      <td>A</td>\n",
       "      <td>252207817872794</td>\n",
       "      <td>0.450623</td>\n",
       "      <td>12.651642</td>\n",
       "      <td>0.184555</td>\n",
       "    </tr>\n",
       "    <tr>\n",
       "      <th>4</th>\n",
       "      <td>1600</td>\n",
       "      <td>A</td>\n",
       "      <td>252207868226798</td>\n",
       "      <td>-2.164352</td>\n",
       "      <td>13.928436</td>\n",
       "      <td>-4.422485</td>\n",
       "    </tr>\n",
       "    <tr>\n",
       "      <th>...</th>\n",
       "      <td>...</td>\n",
       "      <td>...</td>\n",
       "      <td>...</td>\n",
       "      <td>...</td>\n",
       "      <td>...</td>\n",
       "      <td>...</td>\n",
       "    </tr>\n",
       "    <tr>\n",
       "      <th>81452</th>\n",
       "      <td>1601</td>\n",
       "      <td>S</td>\n",
       "      <td>258908699056416</td>\n",
       "      <td>2.015319</td>\n",
       "      <td>9.988011</td>\n",
       "      <td>0.746392</td>\n",
       "    </tr>\n",
       "    <tr>\n",
       "      <th>81453</th>\n",
       "      <td>1601</td>\n",
       "      <td>S</td>\n",
       "      <td>258908738947822</td>\n",
       "      <td>1.681927</td>\n",
       "      <td>10.074801</td>\n",
       "      <td>1.726219</td>\n",
       "    </tr>\n",
       "    <tr>\n",
       "      <th>81454</th>\n",
       "      <td>1601</td>\n",
       "      <td>S</td>\n",
       "      <td>258908778855321</td>\n",
       "      <td>1.148020</td>\n",
       "      <td>9.127296</td>\n",
       "      <td>1.492186</td>\n",
       "    </tr>\n",
       "    <tr>\n",
       "      <th>81455</th>\n",
       "      <td>1601</td>\n",
       "      <td>S</td>\n",
       "      <td>258908818435165</td>\n",
       "      <td>1.417966</td>\n",
       "      <td>9.126099</td>\n",
       "      <td>1.077989</td>\n",
       "    </tr>\n",
       "    <tr>\n",
       "      <th>81456</th>\n",
       "      <td>1601</td>\n",
       "      <td>S</td>\n",
       "      <td>258908858366259</td>\n",
       "      <td>1.383250</td>\n",
       "      <td>10.053851</td>\n",
       "      <td>2.373252</td>\n",
       "    </tr>\n",
       "  </tbody>\n",
       "</table>\n",
       "<p>145768 rows × 6 columns</p>\n",
       "</div>"
      ],
      "text/plain": [
       "       subject_id code        timestamp         x          y         z\n",
       "0            1600    A  252207666810782 -0.364761   8.793503  1.055084\n",
       "1            1600    A  252207717164786 -0.879730   9.768784  1.016998\n",
       "2            1600    A  252207767518790  2.001495  11.109070  2.619156\n",
       "3            1600    A  252207817872794  0.450623  12.651642  0.184555\n",
       "4            1600    A  252207868226798 -2.164352  13.928436 -4.422485\n",
       "...           ...  ...              ...       ...        ...       ...\n",
       "81452        1601    S  258908699056416  2.015319   9.988011  0.746392\n",
       "81453        1601    S  258908738947822  1.681927  10.074801  1.726219\n",
       "81454        1601    S  258908778855321  1.148020   9.127296  1.492186\n",
       "81455        1601    S  258908818435165  1.417966   9.126099  1.077989\n",
       "81456        1601    S  258908858366259  1.383250  10.053851  2.373252\n",
       "\n",
       "[145768 rows x 6 columns]"
      ]
     },
     "execution_count": 5,
     "metadata": {},
     "output_type": "execute_result"
    }
   ],
   "source": [
    "# merge data type in to one\n",
    "data_df = pd.concat([pd.read_csv(url, header=None) for url in loop_urls[:2]]) # for dev this is only the first two files\n",
    "data_df.columns = ['subject_id', 'code', 'timestamp', 'x', 'y', 'z']\n",
    "data_df['z'] = data_df['z'].str.replace(\";\", \"\").astype('float64')\n",
    "\n",
    "phone_accel = data_df.copy()\n",
    "data_df"
   ]
  },
  {
   "cell_type": "code",
   "execution_count": 6,
   "id": "e59b23a8-e316-4468-993d-f7c72e6976cd",
   "metadata": {},
   "outputs": [
    {
     "data": {
      "text/plain": [
       "'145,768'"
      ]
     },
     "execution_count": 6,
     "metadata": {},
     "output_type": "execute_result"
    }
   ],
   "source": [
    "\"{:,.0f}\".format(data_df.shape[0])"
   ]
  },
  {
   "cell_type": "code",
   "execution_count": 7,
   "id": "657f6293-0a42-4880-9e5e-9cbedd83e586",
   "metadata": {},
   "outputs": [
    {
     "name": "stdout",
     "output_type": "stream",
     "text": [
      "DSE230\\ -\\ Project\\ Proposal\\ -\\ Team\\ 001\\ -\\ 2022-04-29.pdf\n",
      "DSE230\\ -\\ Team\\ 001\\ -\\ 01\\ -\\ Data\\ Prep.ipynb\n",
      "DSE230\\ -\\ Team\\ 001\\ -\\ 02\\ -\\ Data\\ Modeling.ipynb\n",
      "README.md\n",
      "WISDM-dataset-description.pdf\n",
      "data\n"
     ]
    }
   ],
   "source": [
    "%%bash\n",
    "dir"
   ]
  },
  {
   "cell_type": "code",
   "execution_count": 8,
   "id": "b318e4ee-8b1c-4c45-8b27-bc2d61caf8fd",
   "metadata": {},
   "outputs": [
    {
     "name": "stdout",
     "output_type": "stream",
     "text": [
      "DSE230 - Project Proposal - Team 001 - 2022-04-29.pdf\n",
      "DSE230 - Team 001 - 01 - Data Prep.ipynb\n",
      "DSE230 - Team 001 - 02 - Data Modeling.ipynb\n",
      "README.md\n",
      "WISDM-dataset-description.pdf\n",
      "data\n"
     ]
    }
   ],
   "source": [
    "%%bash\n",
    "ls"
   ]
  },
  {
   "cell_type": "code",
   "execution_count": 9,
   "id": "24d6ff3f-4873-4c30-9b23-c1a8768c13f4",
   "metadata": {},
   "outputs": [
    {
     "name": "stdout",
     "output_type": "stream",
     "text": [
      "activity_key.txt\n",
      "phone\n",
      "watch\n"
     ]
    }
   ],
   "source": [
    "%%bash\n",
    "cd data\n",
    "ls"
   ]
  },
  {
   "cell_type": "code",
   "execution_count": 10,
   "id": "10eaae59-18c9-4896-867a-0c90f7b6b70c",
   "metadata": {},
   "outputs": [
    {
     "name": "stderr",
     "output_type": "stream",
     "text": [
      "bash: line 1: cd: data/raw/phone/accel: No such file or directory\n"
     ]
    },
    {
     "name": "stdout",
     "output_type": "stream",
     "text": [
      "DSE230\\ -\\ Project\\ Proposal\\ -\\ Team\\ 001\\ -\\ 2022-04-29.pdf\n",
      "DSE230\\ -\\ Team\\ 001\\ -\\ 01\\ -\\ Data\\ Prep.ipynb\n",
      "DSE230\\ -\\ Team\\ 001\\ -\\ 02\\ -\\ Data\\ Modeling.ipynb\n",
      "README.md\n",
      "WISDM-dataset-description.pdf\n",
      "data\n"
     ]
    }
   ],
   "source": [
    "%%bash\n",
    "cd data/raw/phone/accel\n",
    "dir"
   ]
  }
 ],
 "metadata": {
  "kernelspec": {
   "display_name": "Python 3 (ipykernel)",
   "language": "python",
   "name": "python3"
  },
  "language_info": {
   "codemirror_mode": {
    "name": "ipython",
    "version": 3
   },
   "file_extension": ".py",
   "mimetype": "text/x-python",
   "name": "python",
   "nbconvert_exporter": "python",
   "pygments_lexer": "ipython3",
   "version": "3.8.10"
  }
 },
 "nbformat": 4,
 "nbformat_minor": 5
}
