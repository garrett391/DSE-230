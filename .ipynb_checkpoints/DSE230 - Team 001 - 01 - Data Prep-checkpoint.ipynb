{
 "cells": [
  {
   "cell_type": "code",
   "execution_count": 1,
   "id": "b55ef5e0-4738-475f-b0a9-b986a2bed255",
   "metadata": {},
   "outputs": [],
   "source": [
    "# libraries\n",
    "import os\n",
    "import pandas as pd\n",
    "import numpy as np\n",
    "import dask\n",
    "import dask.dataframe as dd\n",
    "\n",
    "import ssl\n",
    "# needed to request files when run from within docker container\n",
    "ssl._create_default_https_context = ssl._create_unverified_context"
   ]
  },
  {
   "cell_type": "markdown",
   "id": "1df2fa91-a025-45e3-8a66-e26a11ab5ead",
   "metadata": {},
   "source": [
    "Get data from github and prep files for analysis"
   ]
  },
  {
   "cell_type": "code",
   "execution_count": 2,
   "id": "11a388e6-a2ad-444b-86c0-e44fcbaa346e",
   "metadata": {},
   "outputs": [
    {
     "data": {
      "text/html": [
       "<div>\n",
       "<style scoped>\n",
       "    .dataframe tbody tr th:only-of-type {\n",
       "        vertical-align: middle;\n",
       "    }\n",
       "\n",
       "    .dataframe tbody tr th {\n",
       "        vertical-align: top;\n",
       "    }\n",
       "\n",
       "    .dataframe thead th {\n",
       "        text-align: right;\n",
       "    }\n",
       "</style>\n",
       "<table border=\"1\" class=\"dataframe\">\n",
       "  <thead>\n",
       "    <tr style=\"text-align: right;\">\n",
       "      <th></th>\n",
       "      <th>activity</th>\n",
       "      <th>code</th>\n",
       "    </tr>\n",
       "  </thead>\n",
       "  <tbody>\n",
       "    <tr>\n",
       "      <th>0</th>\n",
       "      <td>walking</td>\n",
       "      <td>A</td>\n",
       "    </tr>\n",
       "    <tr>\n",
       "      <th>1</th>\n",
       "      <td>jogging</td>\n",
       "      <td>B</td>\n",
       "    </tr>\n",
       "    <tr>\n",
       "      <th>2</th>\n",
       "      <td>stairs</td>\n",
       "      <td>C</td>\n",
       "    </tr>\n",
       "    <tr>\n",
       "      <th>3</th>\n",
       "      <td>sitting</td>\n",
       "      <td>D</td>\n",
       "    </tr>\n",
       "    <tr>\n",
       "      <th>4</th>\n",
       "      <td>standing</td>\n",
       "      <td>E</td>\n",
       "    </tr>\n",
       "    <tr>\n",
       "      <th>5</th>\n",
       "      <td>typing</td>\n",
       "      <td>F</td>\n",
       "    </tr>\n",
       "    <tr>\n",
       "      <th>6</th>\n",
       "      <td>teeth</td>\n",
       "      <td>G</td>\n",
       "    </tr>\n",
       "    <tr>\n",
       "      <th>7</th>\n",
       "      <td>soup</td>\n",
       "      <td>H</td>\n",
       "    </tr>\n",
       "    <tr>\n",
       "      <th>8</th>\n",
       "      <td>chips</td>\n",
       "      <td>I</td>\n",
       "    </tr>\n",
       "    <tr>\n",
       "      <th>9</th>\n",
       "      <td>pasta</td>\n",
       "      <td>J</td>\n",
       "    </tr>\n",
       "    <tr>\n",
       "      <th>10</th>\n",
       "      <td>drinking</td>\n",
       "      <td>K</td>\n",
       "    </tr>\n",
       "    <tr>\n",
       "      <th>11</th>\n",
       "      <td>sandwich</td>\n",
       "      <td>L</td>\n",
       "    </tr>\n",
       "    <tr>\n",
       "      <th>12</th>\n",
       "      <td>kicking</td>\n",
       "      <td>M</td>\n",
       "    </tr>\n",
       "    <tr>\n",
       "      <th>13</th>\n",
       "      <td>catch</td>\n",
       "      <td>O</td>\n",
       "    </tr>\n",
       "    <tr>\n",
       "      <th>14</th>\n",
       "      <td>dribbling</td>\n",
       "      <td>P</td>\n",
       "    </tr>\n",
       "    <tr>\n",
       "      <th>15</th>\n",
       "      <td>writing</td>\n",
       "      <td>Q</td>\n",
       "    </tr>\n",
       "    <tr>\n",
       "      <th>16</th>\n",
       "      <td>clapping</td>\n",
       "      <td>R</td>\n",
       "    </tr>\n",
       "    <tr>\n",
       "      <th>17</th>\n",
       "      <td>folding</td>\n",
       "      <td>S</td>\n",
       "    </tr>\n",
       "  </tbody>\n",
       "</table>\n",
       "</div>"
      ],
      "text/plain": [
       "     activity code\n",
       "0     walking    A\n",
       "1     jogging    B\n",
       "2      stairs    C\n",
       "3     sitting    D\n",
       "4    standing    E\n",
       "5      typing    F\n",
       "6       teeth    G\n",
       "7        soup    H\n",
       "8       chips    I\n",
       "9       pasta    J\n",
       "10   drinking    K\n",
       "11   sandwich    L\n",
       "12    kicking    M\n",
       "13      catch    O\n",
       "14  dribbling    P\n",
       "15    writing    Q\n",
       "16   clapping    R\n",
       "17    folding    S"
      ]
     },
     "execution_count": 2,
     "metadata": {},
     "output_type": "execute_result"
    }
   ],
   "source": [
    "# key for understanding which activity is being measured in a record\n",
    "activity_key_url = r\"https://raw.githubusercontent.com/gojandrooo/DSE-230/main/data/activity_key.txt\"\n",
    "\n",
    "activity_key = pd.read_csv(activity_key_url, header=None)\n",
    "activity_key = activity_key[0].str.replace(\" \", \"\").str.split(\"=\", expand=True)\n",
    "activity_key.columns = ['activity', 'code']\n",
    "activity_key"
   ]
  },
  {
   "cell_type": "code",
   "execution_count": 14,
   "id": "b4c16332-4bd2-4deb-8fe6-b2798c9a3870",
   "metadata": {},
   "outputs": [],
   "source": [
    "# NOTE\n",
    "# this still only grabs two spreadsheets, update for production\n",
    "\n",
    "def collate_df(device, data_type):\n",
    "    '''\n",
    "    # returns a single dataframe from multiple spreadsheets hosted on github\n",
    "    \n",
    "    # device: [\"phone\", \"watch\"]\n",
    "    \n",
    "    # data_type: [\"accel\", \"gyro\"]\n",
    "    '''\n",
    "    \n",
    "    base_url = r\"https://raw.githubusercontent.com/gojandrooo/DSE-230/main/data\"\n",
    "\n",
    "    # TOGGLE FOR DEVICE\n",
    "    device = device\n",
    "\n",
    "    # TOGGLE FOR MEASUREMENT TYPE\n",
    "    data_type = data_type\n",
    "    \n",
    "    # create list of all file names\n",
    "    file_names = [f\"/data_{user_id}_{data_type}_{device}.txt\" for user_id in range(1600, 1651)]\n",
    "\n",
    "    # create urls of all files\n",
    "    loop_urls = [base_url + \"/\" + device + \"/\" + data_type + file_name for file_name in file_names]\n",
    "    \n",
    "    # merge data type in to one\n",
    "    data_df = pd.concat([pd.read_csv(url, header=None) for url in loop_urls[:2]]) # for dev this is only the first two files\n",
    "    data_df.columns = ['subject_id', 'code', 'timestamp', 'x', 'y', 'z']\n",
    "    data_df['z'] = data_df['z'].str.replace(\";\", \"\").astype('float64')\n",
    "    \n",
    "    return data_df"
   ]
  },
  {
   "cell_type": "code",
   "execution_count": 15,
   "id": "781d100e-37eb-4b28-b686-0477b9e9b5ed",
   "metadata": {},
   "outputs": [
    {
     "data": {
      "text/plain": [
       "\u001b[0;31mSignature:\u001b[0m \u001b[0mcollate_df\u001b[0m\u001b[0;34m(\u001b[0m\u001b[0mdevice\u001b[0m\u001b[0;34m,\u001b[0m \u001b[0mdata_type\u001b[0m\u001b[0;34m)\u001b[0m\u001b[0;34m\u001b[0m\u001b[0;34m\u001b[0m\u001b[0m\n",
       "\u001b[0;31mDocstring:\u001b[0m\n",
       "# returns a single dataframe from multiple spreadsheets hosted on github\n",
       "\n",
       "# device: [\"phone\", \"watch\"]\n",
       "\n",
       "# data_type: [\"accel\", \"gyro\"]\n",
       "\u001b[0;31mFile:\u001b[0m      /tmp/ipykernel_430/3370089345.py\n",
       "\u001b[0;31mType:\u001b[0m      function\n"
      ]
     },
     "metadata": {},
     "output_type": "display_data"
    }
   ],
   "source": [
    "collate_df?"
   ]
  },
  {
   "cell_type": "code",
   "execution_count": 16,
   "id": "95c6e6fc-3eed-42b6-b378-726418d988ba",
   "metadata": {},
   "outputs": [
    {
     "data": {
      "text/html": [
       "<div>\n",
       "<style scoped>\n",
       "    .dataframe tbody tr th:only-of-type {\n",
       "        vertical-align: middle;\n",
       "    }\n",
       "\n",
       "    .dataframe tbody tr th {\n",
       "        vertical-align: top;\n",
       "    }\n",
       "\n",
       "    .dataframe thead th {\n",
       "        text-align: right;\n",
       "    }\n",
       "</style>\n",
       "<table border=\"1\" class=\"dataframe\">\n",
       "  <thead>\n",
       "    <tr style=\"text-align: right;\">\n",
       "      <th></th>\n",
       "      <th>subject_id</th>\n",
       "      <th>code</th>\n",
       "      <th>timestamp</th>\n",
       "      <th>x</th>\n",
       "      <th>y</th>\n",
       "      <th>z</th>\n",
       "    </tr>\n",
       "  </thead>\n",
       "  <tbody>\n",
       "    <tr>\n",
       "      <th>0</th>\n",
       "      <td>1600</td>\n",
       "      <td>A</td>\n",
       "      <td>252207666810782</td>\n",
       "      <td>-0.364761</td>\n",
       "      <td>8.793503</td>\n",
       "      <td>1.055084</td>\n",
       "    </tr>\n",
       "    <tr>\n",
       "      <th>1</th>\n",
       "      <td>1600</td>\n",
       "      <td>A</td>\n",
       "      <td>252207717164786</td>\n",
       "      <td>-0.879730</td>\n",
       "      <td>9.768784</td>\n",
       "      <td>1.016998</td>\n",
       "    </tr>\n",
       "    <tr>\n",
       "      <th>2</th>\n",
       "      <td>1600</td>\n",
       "      <td>A</td>\n",
       "      <td>252207767518790</td>\n",
       "      <td>2.001495</td>\n",
       "      <td>11.109070</td>\n",
       "      <td>2.619156</td>\n",
       "    </tr>\n",
       "    <tr>\n",
       "      <th>3</th>\n",
       "      <td>1600</td>\n",
       "      <td>A</td>\n",
       "      <td>252207817872794</td>\n",
       "      <td>0.450623</td>\n",
       "      <td>12.651642</td>\n",
       "      <td>0.184555</td>\n",
       "    </tr>\n",
       "    <tr>\n",
       "      <th>4</th>\n",
       "      <td>1600</td>\n",
       "      <td>A</td>\n",
       "      <td>252207868226798</td>\n",
       "      <td>-2.164352</td>\n",
       "      <td>13.928436</td>\n",
       "      <td>-4.422485</td>\n",
       "    </tr>\n",
       "    <tr>\n",
       "      <th>...</th>\n",
       "      <td>...</td>\n",
       "      <td>...</td>\n",
       "      <td>...</td>\n",
       "      <td>...</td>\n",
       "      <td>...</td>\n",
       "      <td>...</td>\n",
       "    </tr>\n",
       "    <tr>\n",
       "      <th>81452</th>\n",
       "      <td>1601</td>\n",
       "      <td>S</td>\n",
       "      <td>258908699056416</td>\n",
       "      <td>2.015319</td>\n",
       "      <td>9.988011</td>\n",
       "      <td>0.746392</td>\n",
       "    </tr>\n",
       "    <tr>\n",
       "      <th>81453</th>\n",
       "      <td>1601</td>\n",
       "      <td>S</td>\n",
       "      <td>258908738947822</td>\n",
       "      <td>1.681927</td>\n",
       "      <td>10.074801</td>\n",
       "      <td>1.726219</td>\n",
       "    </tr>\n",
       "    <tr>\n",
       "      <th>81454</th>\n",
       "      <td>1601</td>\n",
       "      <td>S</td>\n",
       "      <td>258908778855321</td>\n",
       "      <td>1.148020</td>\n",
       "      <td>9.127296</td>\n",
       "      <td>1.492186</td>\n",
       "    </tr>\n",
       "    <tr>\n",
       "      <th>81455</th>\n",
       "      <td>1601</td>\n",
       "      <td>S</td>\n",
       "      <td>258908818435165</td>\n",
       "      <td>1.417966</td>\n",
       "      <td>9.126099</td>\n",
       "      <td>1.077989</td>\n",
       "    </tr>\n",
       "    <tr>\n",
       "      <th>81456</th>\n",
       "      <td>1601</td>\n",
       "      <td>S</td>\n",
       "      <td>258908858366259</td>\n",
       "      <td>1.383250</td>\n",
       "      <td>10.053851</td>\n",
       "      <td>2.373252</td>\n",
       "    </tr>\n",
       "  </tbody>\n",
       "</table>\n",
       "<p>145768 rows × 6 columns</p>\n",
       "</div>"
      ],
      "text/plain": [
       "       subject_id code        timestamp         x          y         z\n",
       "0            1600    A  252207666810782 -0.364761   8.793503  1.055084\n",
       "1            1600    A  252207717164786 -0.879730   9.768784  1.016998\n",
       "2            1600    A  252207767518790  2.001495  11.109070  2.619156\n",
       "3            1600    A  252207817872794  0.450623  12.651642  0.184555\n",
       "4            1600    A  252207868226798 -2.164352  13.928436 -4.422485\n",
       "...           ...  ...              ...       ...        ...       ...\n",
       "81452        1601    S  258908699056416  2.015319   9.988011  0.746392\n",
       "81453        1601    S  258908738947822  1.681927  10.074801  1.726219\n",
       "81454        1601    S  258908778855321  1.148020   9.127296  1.492186\n",
       "81455        1601    S  258908818435165  1.417966   9.126099  1.077989\n",
       "81456        1601    S  258908858366259  1.383250  10.053851  2.373252\n",
       "\n",
       "[145768 rows x 6 columns]"
      ]
     },
     "execution_count": 16,
     "metadata": {},
     "output_type": "execute_result"
    }
   ],
   "source": [
    "phone_accel = collate_df(\"phone\", \"accel\")\n",
    "phone_accel"
   ]
  },
  {
   "cell_type": "code",
   "execution_count": 10,
   "id": "e59b23a8-e316-4468-993d-f7c72e6976cd",
   "metadata": {},
   "outputs": [
    {
     "data": {
      "text/plain": [
       "'145,768'"
      ]
     },
     "execution_count": 10,
     "metadata": {},
     "output_type": "execute_result"
    }
   ],
   "source": [
    "\"{:,.0f}\".format(phone_accel.shape[0])"
   ]
  },
  {
   "cell_type": "code",
   "execution_count": null,
   "id": "8174665f-ad69-469f-a477-4a7e51511120",
   "metadata": {},
   "outputs": [],
   "source": [
    "# # write out to excel (wireframe)\n",
    "# file_name = 'file_name'\n",
    "# writer = pd.ExcelWriter(f'{file_name}.xlsx', engine='xlsxwriter')\n",
    "# df.to_excel(writer, sheet_name='sheet-name')\n",
    "# writer.save()"
   ]
  },
  {
   "cell_type": "code",
   "execution_count": null,
   "id": "758bf009-9308-4ec8-b5ee-5d89b592ff6d",
   "metadata": {},
   "outputs": [],
   "source": [
    "# # output the to .tsv/csv (wireframe)\n",
    "# file_name = 'file_name'\n",
    "# df = df#.astype(str) #preserve dtype with str if not already\n",
    "# # should output as .tsv to retain data structure\n",
    "# df.to_csv(fr'{file_name}.tsv', sep='\\t', index=False)"
   ]
  },
  {
   "cell_type": "code",
   "execution_count": 42,
   "id": "09ecebc4-e200-4539-88ad-29fff80f87b6",
   "metadata": {},
   "outputs": [],
   "source": [
    "# # serialize file (wireframe)\n",
    "# file_name = 'file_name'\n",
    "# df = df\n",
    "# df.to_pickle(f\"./{file_name}.pkl\")"
   ]
  },
  {
   "cell_type": "code",
   "execution_count": null,
   "id": "4eb80f82-d595-4052-8525-1e3eda61628f",
   "metadata": {},
   "outputs": [],
   "source": [
    "# # read serialized file (wireframe)\n",
    "# file_name = 'file_name'\n",
    "# unpickled_df = pd.read_pickle(f\"./{file_name}.pkl\")"
   ]
  },
  {
   "cell_type": "code",
   "execution_count": 43,
   "id": "49a70ec8-7038-431c-9d2f-c2fd5dc775b0",
   "metadata": {},
   "outputs": [],
   "source": [
    "# # uncompress file and read in to dask (wireframe)\n",
    "# file_name = 'file_name'\n",
    "# unpickled_df = pd.read_pickle(f\"./{file_name}.pkl\")\n",
    "# ddf = dd.from_pandas(unpickled_df, npartitions=8)"
   ]
  },
  {
   "cell_type": "code",
   "execution_count": 48,
   "id": "afecbcc5-6808-4776-84cf-3bbe345e7f41",
   "metadata": {},
   "outputs": [
    {
     "data": {
      "text/plain": [
       "['.git',\n",
       " '.ipynb_checkpoints',\n",
       " 'data',\n",
       " 'DSE230 - Project Proposal - Team 001 - 2022-04-29.pdf',\n",
       " 'DSE230 - Team 001 - 01 - Data Prep.ipynb',\n",
       " 'DSE230 - Team 001 - 02 - Data Modeling.ipynb',\n",
       " 'README.md',\n",
       " 'WISDM-dataset-description.pdf']"
      ]
     },
     "execution_count": 48,
     "metadata": {},
     "output_type": "execute_result"
    }
   ],
   "source": [
    "os.listdir()"
   ]
  },
  {
   "cell_type": "code",
   "execution_count": 49,
   "id": "5635085d-9020-49c5-980e-5a31a1f31e08",
   "metadata": {},
   "outputs": [],
   "source": [
    "# write out file to csv\n",
    "# needed so we can copy from local into hadoop\n",
    "file_name = 'data_phone_accel'\n",
    "df = phone_accel\n",
    "# should output as .tsv to retain data structure\n",
    "df.to_csv(fr'./prepped-data/{file_name}.csv')"
   ]
  },
  {
   "cell_type": "code",
   "execution_count": 50,
   "id": "657f6293-0a42-4880-9e5e-9cbedd83e586",
   "metadata": {},
   "outputs": [
    {
     "name": "stdout",
     "output_type": "stream",
     "text": [
      "DSE230\\ -\\ Project\\ Proposal\\ -\\ Team\\ 001\\ -\\ 2022-04-29.pdf\n",
      "DSE230\\ -\\ Team\\ 001\\ -\\ 01\\ -\\ Data\\ Prep.ipynb\n",
      "DSE230\\ -\\ Team\\ 001\\ -\\ 02\\ -\\ Data\\ Modeling.ipynb\n",
      "README.md\n",
      "WISDM-dataset-description.pdf\n",
      "data\n",
      "prepped-data\n"
     ]
    }
   ],
   "source": [
    "%%bash\n",
    "dir"
   ]
  },
  {
   "cell_type": "markdown",
   "id": "0f32e901-de33-4f24-a872-9709ffaf8678",
   "metadata": {},
   "source": [
    "**create hadoop directory**"
   ]
  },
  {
   "cell_type": "code",
   "execution_count": 51,
   "id": "b318e4ee-8b1c-4c45-8b27-bc2d61caf8fd",
   "metadata": {},
   "outputs": [],
   "source": [
    "%%bash\n",
    "hadoop fs -mkdir /hdfs-data"
   ]
  },
  {
   "cell_type": "markdown",
   "id": "c233432d-e7f5-499c-93a2-ce733bdefe8a",
   "metadata": {},
   "source": [
    "**copy from local into hadoop**"
   ]
  },
  {
   "cell_type": "code",
   "execution_count": 52,
   "id": "d4c0ca51-a456-4f76-bc47-77cda968014c",
   "metadata": {},
   "outputs": [],
   "source": [
    "%%bash\n",
    "hadoop fs -copyFromLocal prepped-data/data_phone_accel.csv /hdfs-data"
   ]
  },
  {
   "cell_type": "markdown",
   "id": "54f654d8-030e-48c1-8b47-86fb43341cc7",
   "metadata": {},
   "source": [
    "**make sure file is in hadoop**"
   ]
  },
  {
   "cell_type": "code",
   "execution_count": 53,
   "id": "a0b37352-c3d0-42e4-93a1-fe2182497af0",
   "metadata": {},
   "outputs": [
    {
     "name": "stdout",
     "output_type": "stream",
     "text": [
      "Found 1 items\n",
      "-rw-r--r--   1 root supergroup    8564241 2022-05-16 06:18 /hdfs-data/data_phone_accel.csv\n"
     ]
    }
   ],
   "source": [
    "%%bash\n",
    "hadoop fs -ls /hdfs-data"
   ]
  },
  {
   "cell_type": "code",
   "execution_count": null,
   "id": "138f749f-af31-4b2d-b94e-f99f5c53d9d4",
   "metadata": {},
   "outputs": [],
   "source": []
  }
 ],
 "metadata": {
  "kernelspec": {
   "display_name": "Python 3 (ipykernel)",
   "language": "python",
   "name": "python3"
  },
  "language_info": {
   "codemirror_mode": {
    "name": "ipython",
    "version": 3
   },
   "file_extension": ".py",
   "mimetype": "text/x-python",
   "name": "python",
   "nbconvert_exporter": "python",
   "pygments_lexer": "ipython3",
   "version": "3.8.10"
  }
 },
 "nbformat": 4,
 "nbformat_minor": 5
}
